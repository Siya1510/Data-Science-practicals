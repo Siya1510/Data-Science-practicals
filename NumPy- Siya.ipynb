{
 "cells": [
  {
   "cell_type": "code",
   "execution_count": null,
   "id": "45e038d3-3fda-4b22-a677-034fb76052c5",
   "metadata": {},
   "outputs": [],
   "source": [
    "# python list\r\n",
    "# list comprehension\r\n",
    "# array module (import lib array)\r\n",
    "# numpy array  \r\n",
    "#       zeos\r\n",
    "#       nes\r\n",
    "#      full\r\n",
    "#      eye\r\n",
    "#      arange\r\n",
    "#      eshape\r\n",
    "#       indexing"
   ]
  },
  {
   "cell_type": "code",
   "execution_count": 118,
   "id": "f9852936-0a67-42af-b4da-6f96990b9bdc",
   "metadata": {},
   "outputs": [],
   "source": [
    "import numpy as np"
   ]
  },
  {
   "cell_type": "code",
   "execution_count": 5,
   "id": "6cca87f5-5dcd-4284-96d7-2b81d74a45b0",
   "metadata": {},
   "outputs": [
    {
     "data": {
      "text/plain": [
       "'1.26.4'"
      ]
     },
     "execution_count": 5,
     "metadata": {},
     "output_type": "execute_result"
    }
   ],
   "source": [
    "np.__version__"
   ]
  },
  {
   "cell_type": "code",
   "execution_count": 7,
   "id": "af5718d6-29d4-4997-8058-a61388315249",
   "metadata": {
    "scrolled": true
   },
   "outputs": [
    {
     "data": {
      "text/plain": [
       "\u001b[1;31mDocstring:\u001b[0m\n",
       "zeros(shape, dtype=float, order='C', *, like=None)\n",
       "\n",
       "Return a new array of given shape and type, filled with zeros.\n",
       "\n",
       "Parameters\n",
       "----------\n",
       "shape : int or tuple of ints\n",
       "    Shape of the new array, e.g., ``(2, 3)`` or ``2``.\n",
       "dtype : data-type, optional\n",
       "    The desired data-type for the array, e.g., `numpy.int8`.  Default is\n",
       "    `numpy.float64`.\n",
       "order : {'C', 'F'}, optional, default: 'C'\n",
       "    Whether to store multi-dimensional data in row-major\n",
       "    (C-style) or column-major (Fortran-style) order in\n",
       "    memory.\n",
       "like : array_like, optional\n",
       "    Reference object to allow the creation of arrays which are not\n",
       "    NumPy arrays. If an array-like passed in as ``like`` supports\n",
       "    the ``__array_function__`` protocol, the result will be defined\n",
       "    by it. In this case, it ensures the creation of an array object\n",
       "    compatible with that passed in via this argument.\n",
       "\n",
       "    .. versionadded:: 1.20.0\n",
       "\n",
       "Returns\n",
       "-------\n",
       "out : ndarray\n",
       "    Array of zeros with the given shape, dtype, and order.\n",
       "\n",
       "See Also\n",
       "--------\n",
       "zeros_like : Return an array of zeros with shape and type of input.\n",
       "empty : Return a new uninitialized array.\n",
       "ones : Return a new array setting values to one.\n",
       "full : Return a new array of given shape filled with value.\n",
       "\n",
       "Examples\n",
       "--------\n",
       ">>> np.zeros(5)\n",
       "array([ 0.,  0.,  0.,  0.,  0.])\n",
       "\n",
       ">>> np.zeros((5,), dtype=int)\n",
       "array([0, 0, 0, 0, 0])\n",
       "\n",
       ">>> np.zeros((2, 1))\n",
       "array([[ 0.],\n",
       "       [ 0.]])\n",
       "\n",
       ">>> s = (2,2)\n",
       ">>> np.zeros(s)\n",
       "array([[ 0.,  0.],\n",
       "       [ 0.,  0.]])\n",
       "\n",
       ">>> np.zeros((2,), dtype=[('x', 'i4'), ('y', 'i4')]) # custom dtype\n",
       "array([(0, 0), (0, 0)],\n",
       "      dtype=[('x', '<i4'), ('y', '<i4')])\n",
       "\u001b[1;31mType:\u001b[0m      builtin_function_or_method"
      ]
     },
     "metadata": {},
     "output_type": "display_data"
    }
   ],
   "source": [
    "get_ipython().run_line_magic('pinfo', 'np.zeros')"
   ]
  },
  {
   "cell_type": "code",
   "execution_count": 9,
   "id": "e76ceaf2-dea9-401b-a494-09aa1bdd473b",
   "metadata": {
    "scrolled": true
   },
   "outputs": [
    {
     "name": "stdout",
     "output_type": "stream",
     "text": [
      "Help on built-in function len in module builtins:\n",
      "\n",
      "len(obj, /)\n",
      "    Return the number of items in a container.\n",
      "\n"
     ]
    }
   ],
   "source": [
    "help(len)"
   ]
  },
  {
   "cell_type": "code",
   "execution_count": 11,
   "id": "281f05b1-725c-4f94-9757-54cac6b92955",
   "metadata": {},
   "outputs": [],
   "source": [
    "arr = np.arange(0,100)"
   ]
  },
  {
   "cell_type": "code",
   "execution_count": 15,
   "id": "89351811-09c9-40f6-8837-0b9c5a4caa7e",
   "metadata": {},
   "outputs": [
    {
     "data": {
      "text/plain": [
       "array([ 0,  1,  2,  3,  4,  5,  6,  7,  8,  9, 10, 11, 12, 13, 14, 15, 16,\n",
       "       17, 18, 19, 20, 21, 22, 23, 24, 25, 26, 27, 28, 29, 30, 31, 32, 33,\n",
       "       34, 35, 36, 37, 38, 39, 40, 41, 42, 43, 44, 45, 46, 47, 48, 49, 50,\n",
       "       51, 52, 53, 54, 55, 56, 57, 58, 59, 60, 61, 62, 63, 64, 65, 66, 67,\n",
       "       68, 69, 70, 71, 72, 73, 74, 75, 76, 77, 78, 79, 80, 81, 82, 83, 84,\n",
       "       85, 86, 87, 88, 89, 90, 91, 92, 93, 94, 95, 96, 97, 98, 99])"
      ]
     },
     "execution_count": 15,
     "metadata": {},
     "output_type": "execute_result"
    }
   ],
   "source": [
    "arr"
   ]
  },
  {
   "cell_type": "code",
   "execution_count": 21,
   "id": "ffec9999-f661-4ee1-b083-8bc11dc42239",
   "metadata": {},
   "outputs": [
    {
     "data": {
      "text/plain": [
       "array([ 0,  2,  4,  6,  8, 10, 12, 14, 16, 18, 20, 22, 24, 26, 28, 30, 32,\n",
       "       34, 36, 38, 40, 42, 44, 46, 48, 50, 52, 54, 56, 58, 60, 62, 64, 66,\n",
       "       68, 70, 72, 74, 76, 78, 80, 82, 84, 86, 88, 90, 92, 94, 96, 98])"
      ]
     },
     "execution_count": 21,
     "metadata": {},
     "output_type": "execute_result"
    }
   ],
   "source": [
    "np.arange(0,100,2)"
   ]
  },
  {
   "cell_type": "code",
   "execution_count": 23,
   "id": "70e84d7f-0ac9-433c-8ed3-64439a25152b",
   "metadata": {},
   "outputs": [
    {
     "data": {
      "text/plain": [
       "\u001b[1;31mDocstring:\u001b[0m\n",
       "arange([start,] stop[, step,], dtype=None, *, like=None)\n",
       "\n",
       "Return evenly spaced values within a given interval.\n",
       "\n",
       "``arange`` can be called with a varying number of positional arguments:\n",
       "\n",
       "* ``arange(stop)``: Values are generated within the half-open interval\n",
       "  ``[0, stop)`` (in other words, the interval including `start` but\n",
       "  excluding `stop`).\n",
       "* ``arange(start, stop)``: Values are generated within the half-open\n",
       "  interval ``[start, stop)``.\n",
       "* ``arange(start, stop, step)`` Values are generated within the half-open\n",
       "  interval ``[start, stop)``, with spacing between values given by\n",
       "  ``step``.\n",
       "\n",
       "For integer arguments the function is roughly equivalent to the Python\n",
       "built-in :py:class:`range`, but returns an ndarray rather than a ``range``\n",
       "instance.\n",
       "\n",
       "When using a non-integer step, such as 0.1, it is often better to use\n",
       "`numpy.linspace`.\n",
       "\n",
       "See the Warning sections below for more information.\n",
       "\n",
       "Parameters\n",
       "----------\n",
       "start : integer or real, optional\n",
       "    Start of interval.  The interval includes this value.  The default\n",
       "    start value is 0.\n",
       "stop : integer or real\n",
       "    End of interval.  The interval does not include this value, except\n",
       "    in some cases where `step` is not an integer and floating point\n",
       "    round-off affects the length of `out`.\n",
       "step : integer or real, optional\n",
       "    Spacing between values.  For any output `out`, this is the distance\n",
       "    between two adjacent values, ``out[i+1] - out[i]``.  The default\n",
       "    step size is 1.  If `step` is specified as a position argument,\n",
       "    `start` must also be given.\n",
       "dtype : dtype, optional\n",
       "    The type of the output array.  If `dtype` is not given, infer the data\n",
       "    type from the other input arguments.\n",
       "like : array_like, optional\n",
       "    Reference object to allow the creation of arrays which are not\n",
       "    NumPy arrays. If an array-like passed in as ``like`` supports\n",
       "    the ``__array_function__`` protocol, the result will be defined\n",
       "    by it. In this case, it ensures the creation of an array object\n",
       "    compatible with that passed in via this argument.\n",
       "\n",
       "    .. versionadded:: 1.20.0\n",
       "\n",
       "Returns\n",
       "-------\n",
       "arange : ndarray\n",
       "    Array of evenly spaced values.\n",
       "\n",
       "    For floating point arguments, the length of the result is\n",
       "    ``ceil((stop - start)/step)``.  Because of floating point overflow,\n",
       "    this rule may result in the last element of `out` being greater\n",
       "    than `stop`.\n",
       "\n",
       "Warnings\n",
       "--------\n",
       "The length of the output might not be numerically stable.\n",
       "\n",
       "Another stability issue is due to the internal implementation of\n",
       "`numpy.arange`.\n",
       "The actual step value used to populate the array is\n",
       "``dtype(start + step) - dtype(start)`` and not `step`. Precision loss\n",
       "can occur here, due to casting or due to using floating points when\n",
       "`start` is much larger than `step`. This can lead to unexpected\n",
       "behaviour. For example::\n",
       "\n",
       "  >>> np.arange(0, 5, 0.5, dtype=int)\n",
       "  array([0, 0, 0, 0, 0, 0, 0, 0, 0, 0])\n",
       "  >>> np.arange(-3, 3, 0.5, dtype=int)\n",
       "  array([-3, -2, -1,  0,  1,  2,  3,  4,  5,  6,  7,  8])\n",
       "\n",
       "In such cases, the use of `numpy.linspace` should be preferred.\n",
       "\n",
       "The built-in :py:class:`range` generates :std:doc:`Python built-in integers\n",
       "that have arbitrary size <python:c-api/long>`, while `numpy.arange`\n",
       "produces `numpy.int32` or `numpy.int64` numbers. This may result in\n",
       "incorrect results for large integer values::\n",
       "\n",
       "  >>> power = 40\n",
       "  >>> modulo = 10000\n",
       "  >>> x1 = [(n ** power) % modulo for n in range(8)]\n",
       "  >>> x2 = [(n ** power) % modulo for n in np.arange(8)]\n",
       "  >>> print(x1)\n",
       "  [0, 1, 7776, 8801, 6176, 625, 6576, 4001]  # correct\n",
       "  >>> print(x2)\n",
       "  [0, 1, 7776, 7185, 0, 5969, 4816, 3361]  # incorrect\n",
       "\n",
       "See Also\n",
       "--------\n",
       "numpy.linspace : Evenly spaced numbers with careful handling of endpoints.\n",
       "numpy.ogrid: Arrays of evenly spaced numbers in N-dimensions.\n",
       "numpy.mgrid: Grid-shaped arrays of evenly spaced numbers in N-dimensions.\n",
       ":ref:`how-to-partition`\n",
       "\n",
       "Examples\n",
       "--------\n",
       ">>> np.arange(3)\n",
       "array([0, 1, 2])\n",
       ">>> np.arange(3.0)\n",
       "array([ 0.,  1.,  2.])\n",
       ">>> np.arange(3,7)\n",
       "array([3, 4, 5, 6])\n",
       ">>> np.arange(3,7,2)\n",
       "array([3, 5])\n",
       "\u001b[1;31mType:\u001b[0m      builtin_function_or_method"
      ]
     },
     "metadata": {},
     "output_type": "display_data"
    }
   ],
   "source": [
    "get_ipython().run_line_magic('pinfo', 'np.arange')\n"
   ]
  },
  {
   "cell_type": "code",
   "execution_count": 25,
   "id": "f1fec863-1498-47ad-b47b-3c43dd4e2672",
   "metadata": {},
   "outputs": [
    {
     "data": {
      "text/plain": [
       "array([ 0,  4,  8, 12, 16, 20, 24, 28, 32, 36, 40, 44, 48, 52, 56, 60, 64,\n",
       "       68, 72, 76, 80, 84, 88, 92, 96])"
      ]
     },
     "execution_count": 25,
     "metadata": {},
     "output_type": "execute_result"
    }
   ],
   "source": [
    "np.arange(0,100,4)"
   ]
  },
  {
   "cell_type": "code",
   "execution_count": 27,
   "id": "24f7aaf8-ee92-481d-bc09-098af89d2d5c",
   "metadata": {},
   "outputs": [
    {
     "data": {
      "text/plain": [
       "array([-78, -77, -76, -75, -74, -73, -72, -71, -70, -69, -68, -67, -66,\n",
       "       -65, -64, -63, -62, -61, -60, -59, -58, -57, -56, -55, -54, -53,\n",
       "       -52, -51, -50, -49, -48, -47, -46, -45, -44, -43, -42, -41, -40,\n",
       "       -39, -38, -37, -36, -35, -34, -33, -32, -31, -30, -29, -28, -27,\n",
       "       -26, -25, -24, -23, -22, -21, -20, -19, -18, -17, -16, -15, -14,\n",
       "       -13, -12, -11, -10,  -9,  -8,  -7,  -6,  -5,  -4,  -3,  -2,  -1,\n",
       "         0,   1,   2,   3,   4,   5,   6,   7,   8,   9,  10,  11,  12,\n",
       "        13,  14,  15,  16,  17,  18,  19,  20,  21,  22,  23,  24,  25,\n",
       "        26,  27,  28,  29,  30,  31,  32,  33,  34,  35,  36,  37,  38,\n",
       "        39,  40,  41,  42,  43,  44,  45,  46,  47,  48,  49,  50,  51,\n",
       "        52,  53,  54,  55,  56,  57,  58,  59,  60,  61,  62,  63,  64,\n",
       "        65,  66,  67,  68,  69,  70,  71,  72,  73,  74,  75,  76,  77])"
      ]
     },
     "execution_count": 27,
     "metadata": {},
     "output_type": "execute_result"
    }
   ],
   "source": [
    "np.arange(-78,78)"
   ]
  },
  {
   "cell_type": "code",
   "execution_count": 29,
   "id": "f7856458-e325-438f-a417-b51b8a7fb08a",
   "metadata": {},
   "outputs": [
    {
     "data": {
      "text/plain": [
       "[0, 1, 2, 3, 4, 5, 6, 7, 8, 9]"
      ]
     },
     "execution_count": 29,
     "metadata": {},
     "output_type": "execute_result"
    }
   ],
   "source": [
    "list(range(0,10))"
   ]
  },
  {
   "cell_type": "code",
   "execution_count": 31,
   "id": "d1427b78-ef2c-4cbd-be68-f4f3db62e505",
   "metadata": {},
   "outputs": [
    {
     "data": {
      "text/plain": [
       "'Lists take time computing as it has multiple datatypes to deal with. Array computes faster as it only has to compute single datatype.'"
      ]
     },
     "execution_count": 31,
     "metadata": {},
     "output_type": "execute_result"
    }
   ],
   "source": [
    "# Difference between List and Numpy Array.\n",
    "\"In list, we can store different datatype elements. And in Numpy Array we can only store any 1 datatype elements.\"\n",
    "\"Lists take time computing as it has multiple datatypes to deal with. Array computes faster as it only has to compute single datatype.\""
   ]
  },
  {
   "cell_type": "code",
   "execution_count": 33,
   "id": "36c9abc7-fccd-4880-aa3a-8633f842afb2",
   "metadata": {},
   "outputs": [],
   "source": [
    "l2 = [ x for x in range(0,10)]"
   ]
  },
  {
   "cell_type": "code",
   "execution_count": 35,
   "id": "42e90335-723f-4c51-abff-dfed8d2c9820",
   "metadata": {},
   "outputs": [
    {
     "data": {
      "text/plain": [
       "[0, 1, 2, 3, 4, 5, 6, 7, 8, 9]"
      ]
     },
     "execution_count": 35,
     "metadata": {},
     "output_type": "execute_result"
    }
   ],
   "source": [
    "l2"
   ]
  },
  {
   "cell_type": "code",
   "execution_count": 37,
   "id": "d63ff8aa-dce1-4b59-8d5a-6d2e1ca8127f",
   "metadata": {},
   "outputs": [],
   "source": [
    "l3 = [str(x) for x in l2]"
   ]
  },
  {
   "cell_type": "code",
   "execution_count": 39,
   "id": "63fb072a-bcfc-498d-92da-983ae8324a0f",
   "metadata": {},
   "outputs": [
    {
     "data": {
      "text/plain": [
       "['0', '1', '2', '3', '4', '5', '6', '7', '8', '9']"
      ]
     },
     "execution_count": 39,
     "metadata": {},
     "output_type": "execute_result"
    }
   ],
   "source": [
    "l3"
   ]
  },
  {
   "cell_type": "code",
   "execution_count": 41,
   "id": "033ef0ea-65af-456f-83fe-54f8a0d447d6",
   "metadata": {},
   "outputs": [],
   "source": [
    "l4 = [x**2 for x in l2]"
   ]
  },
  {
   "cell_type": "code",
   "execution_count": 43,
   "id": "c61d2628-8eb9-483b-a583-d1d3fe05d51f",
   "metadata": {},
   "outputs": [
    {
     "data": {
      "text/plain": [
       "[0, 1, 4, 9, 16, 25, 36, 49, 64, 81]"
      ]
     },
     "execution_count": 43,
     "metadata": {},
     "output_type": "execute_result"
    }
   ],
   "source": [
    "l4"
   ]
  },
  {
   "cell_type": "code",
   "execution_count": 45,
   "id": "ae22deb7-41f2-4bda-99ec-b34123dba26a",
   "metadata": {},
   "outputs": [
    {
     "data": {
      "text/plain": [
       "list"
      ]
     },
     "execution_count": 45,
     "metadata": {},
     "output_type": "execute_result"
    }
   ],
   "source": [
    "type(l4)\n"
   ]
  },
  {
   "cell_type": "code",
   "execution_count": 47,
   "id": "ffea6736-8792-4b6e-b91d-69b30c49429f",
   "metadata": {},
   "outputs": [],
   "source": [
    "import array"
   ]
  },
  {
   "cell_type": "code",
   "execution_count": 49,
   "id": "d54ea181-ed78-4ffb-9476-29172ce3ca38",
   "metadata": {
    "scrolled": true
   },
   "outputs": [
    {
     "name": "stdout",
     "output_type": "stream",
     "text": [
      "Help on built-in module array:\n",
      "\n",
      "NAME\n",
      "    array\n",
      "\n",
      "DESCRIPTION\n",
      "    This module defines an object type which can efficiently represent\n",
      "    an array of basic values: characters, integers, floating point\n",
      "    numbers.  Arrays are sequence types and behave very much like lists,\n",
      "    except that the type of objects stored in them is constrained.\n",
      "\n",
      "CLASSES\n",
      "    builtins.object\n",
      "        array\n",
      "\n",
      "    ArrayType = class array(builtins.object)\n",
      "     |  array(typecode [, initializer]) -> array\n",
      "     |\n",
      "     |  Return a new array whose items are restricted by typecode, and\n",
      "     |  initialized from the optional initializer value, which must be a list,\n",
      "     |  string or iterable over elements of the appropriate type.\n",
      "     |\n",
      "     |  Arrays represent basic values and behave very much like lists, except\n",
      "     |  the type of objects stored in them is constrained. The type is specified\n",
      "     |  at object creation time by using a type code, which is a single character.\n",
      "     |  The following type codes are defined:\n",
      "     |\n",
      "     |      Type code   C Type             Minimum size in bytes\n",
      "     |      'b'         signed integer     1\n",
      "     |      'B'         unsigned integer   1\n",
      "     |      'u'         Unicode character  2 (see note)\n",
      "     |      'h'         signed integer     2\n",
      "     |      'H'         unsigned integer   2\n",
      "     |      'i'         signed integer     2\n",
      "     |      'I'         unsigned integer   2\n",
      "     |      'l'         signed integer     4\n",
      "     |      'L'         unsigned integer   4\n",
      "     |      'q'         signed integer     8 (see note)\n",
      "     |      'Q'         unsigned integer   8 (see note)\n",
      "     |      'f'         floating point     4\n",
      "     |      'd'         floating point     8\n",
      "     |\n",
      "     |  NOTE: The 'u' typecode corresponds to Python's unicode character. On\n",
      "     |  narrow builds this is 2-bytes on wide builds this is 4-bytes.\n",
      "     |\n",
      "     |  NOTE: The 'q' and 'Q' type codes are only available if the platform\n",
      "     |  C compiler used to build Python supports 'long long', or, on Windows,\n",
      "     |  '__int64'.\n",
      "     |\n",
      "     |  Methods:\n",
      "     |\n",
      "     |  append() -- append a new item to the end of the array\n",
      "     |  buffer_info() -- return information giving the current memory info\n",
      "     |  byteswap() -- byteswap all the items of the array\n",
      "     |  count() -- return number of occurrences of an object\n",
      "     |  extend() -- extend array by appending multiple elements from an iterable\n",
      "     |  fromfile() -- read items from a file object\n",
      "     |  fromlist() -- append items from the list\n",
      "     |  frombytes() -- append items from the string\n",
      "     |  index() -- return index of first occurrence of an object\n",
      "     |  insert() -- insert a new item into the array at a provided position\n",
      "     |  pop() -- remove and return item (default last)\n",
      "     |  remove() -- remove first occurrence of an object\n",
      "     |  reverse() -- reverse the order of the items in the array\n",
      "     |  tofile() -- write all items to a file object\n",
      "     |  tolist() -- return the array converted to an ordinary list\n",
      "     |  tobytes() -- return the array converted to a string\n",
      "     |\n",
      "     |  Attributes:\n",
      "     |\n",
      "     |  typecode -- the typecode character used to create the array\n",
      "     |  itemsize -- the length in bytes of one array item\n",
      "     |\n",
      "     |  Methods defined here:\n",
      "     |\n",
      "     |  __add__(self, value, /)\n",
      "     |      Return self+value.\n",
      "     |\n",
      "     |  __buffer__(self, flags, /)\n",
      "     |      Return a buffer object that exposes the underlying memory of the object.\n",
      "     |\n",
      "     |  __contains__(self, key, /)\n",
      "     |      Return bool(key in self).\n",
      "     |\n",
      "     |  __copy__(self, /)\n",
      "     |      Return a copy of the array.\n",
      "     |\n",
      "     |  __deepcopy__(self, unused, /)\n",
      "     |      Return a copy of the array.\n",
      "     |\n",
      "     |  __delitem__(self, key, /)\n",
      "     |      Delete self[key].\n",
      "     |\n",
      "     |  __eq__(self, value, /)\n",
      "     |      Return self==value.\n",
      "     |\n",
      "     |  __ge__(self, value, /)\n",
      "     |      Return self>=value.\n",
      "     |\n",
      "     |  __getattribute__(self, name, /)\n",
      "     |      Return getattr(self, name).\n",
      "     |\n",
      "     |  __getitem__(self, key, /)\n",
      "     |      Return self[key].\n",
      "     |\n",
      "     |  __gt__(self, value, /)\n",
      "     |      Return self>value.\n",
      "     |\n",
      "     |  __iadd__(self, value, /)\n",
      "     |      Implement self+=value.\n",
      "     |\n",
      "     |  __imul__(self, value, /)\n",
      "     |      Implement self*=value.\n",
      "     |\n",
      "     |  __iter__(self, /)\n",
      "     |      Implement iter(self).\n",
      "     |\n",
      "     |  __le__(self, value, /)\n",
      "     |      Return self<=value.\n",
      "     |\n",
      "     |  __len__(self, /)\n",
      "     |      Return len(self).\n",
      "     |\n",
      "     |  __lt__(self, value, /)\n",
      "     |      Return self<value.\n",
      "     |\n",
      "     |  __mul__(self, value, /)\n",
      "     |      Return self*value.\n",
      "     |\n",
      "     |  __ne__(self, value, /)\n",
      "     |      Return self!=value.\n",
      "     |\n",
      "     |  __reduce_ex__(self, value, /)\n",
      "     |      Return state information for pickling.\n",
      "     |\n",
      "     |  __release_buffer__(self, buffer, /)\n",
      "     |      Release the buffer object that exposes the underlying memory of the object.\n",
      "     |\n",
      "     |  __repr__(self, /)\n",
      "     |      Return repr(self).\n",
      "     |\n",
      "     |  __rmul__(self, value, /)\n",
      "     |      Return value*self.\n",
      "     |\n",
      "     |  __setitem__(self, key, value, /)\n",
      "     |      Set self[key] to value.\n",
      "     |\n",
      "     |  __sizeof__(self, /)\n",
      "     |      Size of the array in memory, in bytes.\n",
      "     |\n",
      "     |  append(self, v, /)\n",
      "     |      Append new value v to the end of the array.\n",
      "     |\n",
      "     |  buffer_info(self, /)\n",
      "     |      Return a tuple (address, length) giving the current memory address and the length in items of the buffer used to hold array's contents.\n",
      "     |\n",
      "     |      The length should be multiplied by the itemsize attribute to calculate\n",
      "     |      the buffer length in bytes.\n",
      "     |\n",
      "     |  byteswap(self, /)\n",
      "     |      Byteswap all items of the array.\n",
      "     |\n",
      "     |      If the items in the array are not 1, 2, 4, or 8 bytes in size, RuntimeError is\n",
      "     |      raised.\n",
      "     |\n",
      "     |  count(self, v, /)\n",
      "     |      Return number of occurrences of v in the array.\n",
      "     |\n",
      "     |  extend(self, bb, /)\n",
      "     |      Append items to the end of the array.\n",
      "     |\n",
      "     |  frombytes(self, buffer, /)\n",
      "     |      Appends items from the string, interpreting it as an array of machine values, as if it had been read from a file using the fromfile() method.\n",
      "     |\n",
      "     |  fromfile(self, f, n, /)\n",
      "     |      Read n objects from the file object f and append them to the end of the array.\n",
      "     |\n",
      "     |  fromlist(self, list, /)\n",
      "     |      Append items to array from list.\n",
      "     |\n",
      "     |  fromunicode(self, ustr, /)\n",
      "     |      Extends this array with data from the unicode string ustr.\n",
      "     |\n",
      "     |      The array must be a unicode type array; otherwise a ValueError is raised.\n",
      "     |      Use array.frombytes(ustr.encode(...)) to append Unicode data to an array of\n",
      "     |      some other type.\n",
      "     |\n",
      "     |  index(self, v, start=0, stop=9223372036854775807, /)\n",
      "     |      Return index of first occurrence of v in the array.\n",
      "     |\n",
      "     |      Raise ValueError if the value is not present.\n",
      "     |\n",
      "     |  insert(self, i, v, /)\n",
      "     |      Insert a new item v into the array before position i.\n",
      "     |\n",
      "     |  pop(self, i=-1, /)\n",
      "     |      Return the i-th element and delete it from the array.\n",
      "     |\n",
      "     |      i defaults to -1.\n",
      "     |\n",
      "     |  remove(self, v, /)\n",
      "     |      Remove the first occurrence of v in the array.\n",
      "     |\n",
      "     |  reverse(self, /)\n",
      "     |      Reverse the order of the items in the array.\n",
      "     |\n",
      "     |  tobytes(self, /)\n",
      "     |      Convert the array to an array of machine values and return the bytes representation.\n",
      "     |\n",
      "     |  tofile(self, f, /)\n",
      "     |      Write all items (as machine values) to the file object f.\n",
      "     |\n",
      "     |  tolist(self, /)\n",
      "     |      Convert array to an ordinary list with the same items.\n",
      "     |\n",
      "     |  tounicode(self, /)\n",
      "     |      Extends this array with data from the unicode string ustr.\n",
      "     |\n",
      "     |      Convert the array to a unicode string.  The array must be a unicode type array;\n",
      "     |      otherwise a ValueError is raised.  Use array.tobytes().decode() to obtain a\n",
      "     |      unicode string from an array of some other type.\n",
      "     |\n",
      "     |  ----------------------------------------------------------------------\n",
      "     |  Class methods defined here:\n",
      "     |\n",
      "     |  __class_getitem__(...)\n",
      "     |      See PEP 585\n",
      "     |\n",
      "     |  ----------------------------------------------------------------------\n",
      "     |  Static methods defined here:\n",
      "     |\n",
      "     |  __new__(*args, **kwargs)\n",
      "     |      Create and return a new object.  See help(type) for accurate signature.\n",
      "     |\n",
      "     |  ----------------------------------------------------------------------\n",
      "     |  Data descriptors defined here:\n",
      "     |\n",
      "     |  itemsize\n",
      "     |      the size, in bytes, of one array item\n",
      "     |\n",
      "     |  typecode\n",
      "     |      the typecode character used to create the array\n",
      "     |\n",
      "     |  ----------------------------------------------------------------------\n",
      "     |  Data and other attributes defined here:\n",
      "     |\n",
      "     |  __hash__ = None\n",
      "\n",
      "    class array(builtins.object)\n",
      "     |  array(typecode [, initializer]) -> array\n",
      "     |\n",
      "     |  Return a new array whose items are restricted by typecode, and\n",
      "     |  initialized from the optional initializer value, which must be a list,\n",
      "     |  string or iterable over elements of the appropriate type.\n",
      "     |\n",
      "     |  Arrays represent basic values and behave very much like lists, except\n",
      "     |  the type of objects stored in them is constrained. The type is specified\n",
      "     |  at object creation time by using a type code, which is a single character.\n",
      "     |  The following type codes are defined:\n",
      "     |\n",
      "     |      Type code   C Type             Minimum size in bytes\n",
      "     |      'b'         signed integer     1\n",
      "     |      'B'         unsigned integer   1\n",
      "     |      'u'         Unicode character  2 (see note)\n",
      "     |      'h'         signed integer     2\n",
      "     |      'H'         unsigned integer   2\n",
      "     |      'i'         signed integer     2\n",
      "     |      'I'         unsigned integer   2\n",
      "     |      'l'         signed integer     4\n",
      "     |      'L'         unsigned integer   4\n",
      "     |      'q'         signed integer     8 (see note)\n",
      "     |      'Q'         unsigned integer   8 (see note)\n",
      "     |      'f'         floating point     4\n",
      "     |      'd'         floating point     8\n",
      "     |\n",
      "     |  NOTE: The 'u' typecode corresponds to Python's unicode character. On\n",
      "     |  narrow builds this is 2-bytes on wide builds this is 4-bytes.\n",
      "     |\n",
      "     |  NOTE: The 'q' and 'Q' type codes are only available if the platform\n",
      "     |  C compiler used to build Python supports 'long long', or, on Windows,\n",
      "     |  '__int64'.\n",
      "     |\n",
      "     |  Methods:\n",
      "     |\n",
      "     |  append() -- append a new item to the end of the array\n",
      "     |  buffer_info() -- return information giving the current memory info\n",
      "     |  byteswap() -- byteswap all the items of the array\n",
      "     |  count() -- return number of occurrences of an object\n",
      "     |  extend() -- extend array by appending multiple elements from an iterable\n",
      "     |  fromfile() -- read items from a file object\n",
      "     |  fromlist() -- append items from the list\n",
      "     |  frombytes() -- append items from the string\n",
      "     |  index() -- return index of first occurrence of an object\n",
      "     |  insert() -- insert a new item into the array at a provided position\n",
      "     |  pop() -- remove and return item (default last)\n",
      "     |  remove() -- remove first occurrence of an object\n",
      "     |  reverse() -- reverse the order of the items in the array\n",
      "     |  tofile() -- write all items to a file object\n",
      "     |  tolist() -- return the array converted to an ordinary list\n",
      "     |  tobytes() -- return the array converted to a string\n",
      "     |\n",
      "     |  Attributes:\n",
      "     |\n",
      "     |  typecode -- the typecode character used to create the array\n",
      "     |  itemsize -- the length in bytes of one array item\n",
      "     |\n",
      "     |  Methods defined here:\n",
      "     |\n",
      "     |  __add__(self, value, /)\n",
      "     |      Return self+value.\n",
      "     |\n",
      "     |  __buffer__(self, flags, /)\n",
      "     |      Return a buffer object that exposes the underlying memory of the object.\n",
      "     |\n",
      "     |  __contains__(self, key, /)\n",
      "     |      Return bool(key in self).\n",
      "     |\n",
      "     |  __copy__(self, /)\n",
      "     |      Return a copy of the array.\n",
      "     |\n",
      "     |  __deepcopy__(self, unused, /)\n",
      "     |      Return a copy of the array.\n",
      "     |\n",
      "     |  __delitem__(self, key, /)\n",
      "     |      Delete self[key].\n",
      "     |\n",
      "     |  __eq__(self, value, /)\n",
      "     |      Return self==value.\n",
      "     |\n",
      "     |  __ge__(self, value, /)\n",
      "     |      Return self>=value.\n",
      "     |\n",
      "     |  __getattribute__(self, name, /)\n",
      "     |      Return getattr(self, name).\n",
      "     |\n",
      "     |  __getitem__(self, key, /)\n",
      "     |      Return self[key].\n",
      "     |\n",
      "     |  __gt__(self, value, /)\n",
      "     |      Return self>value.\n",
      "     |\n",
      "     |  __iadd__(self, value, /)\n",
      "     |      Implement self+=value.\n",
      "     |\n",
      "     |  __imul__(self, value, /)\n",
      "     |      Implement self*=value.\n",
      "     |\n",
      "     |  __iter__(self, /)\n",
      "     |      Implement iter(self).\n",
      "     |\n",
      "     |  __le__(self, value, /)\n",
      "     |      Return self<=value.\n",
      "     |\n",
      "     |  __len__(self, /)\n",
      "     |      Return len(self).\n",
      "     |\n",
      "     |  __lt__(self, value, /)\n",
      "     |      Return self<value.\n",
      "     |\n",
      "     |  __mul__(self, value, /)\n",
      "     |      Return self*value.\n",
      "     |\n",
      "     |  __ne__(self, value, /)\n",
      "     |      Return self!=value.\n",
      "     |\n",
      "     |  __reduce_ex__(self, value, /)\n",
      "     |      Return state information for pickling.\n",
      "     |\n",
      "     |  __release_buffer__(self, buffer, /)\n",
      "     |      Release the buffer object that exposes the underlying memory of the object.\n",
      "     |\n",
      "     |  __repr__(self, /)\n",
      "     |      Return repr(self).\n",
      "     |\n",
      "     |  __rmul__(self, value, /)\n",
      "     |      Return value*self.\n",
      "     |\n",
      "     |  __setitem__(self, key, value, /)\n",
      "     |      Set self[key] to value.\n",
      "     |\n",
      "     |  __sizeof__(self, /)\n",
      "     |      Size of the array in memory, in bytes.\n",
      "     |\n",
      "     |  append(self, v, /)\n",
      "     |      Append new value v to the end of the array.\n",
      "     |\n",
      "     |  buffer_info(self, /)\n",
      "     |      Return a tuple (address, length) giving the current memory address and the length in items of the buffer used to hold array's contents.\n",
      "     |\n",
      "     |      The length should be multiplied by the itemsize attribute to calculate\n",
      "     |      the buffer length in bytes.\n",
      "     |\n",
      "     |  byteswap(self, /)\n",
      "     |      Byteswap all items of the array.\n",
      "     |\n",
      "     |      If the items in the array are not 1, 2, 4, or 8 bytes in size, RuntimeError is\n",
      "     |      raised.\n",
      "     |\n",
      "     |  count(self, v, /)\n",
      "     |      Return number of occurrences of v in the array.\n",
      "     |\n",
      "     |  extend(self, bb, /)\n",
      "     |      Append items to the end of the array.\n",
      "     |\n",
      "     |  frombytes(self, buffer, /)\n",
      "     |      Appends items from the string, interpreting it as an array of machine values, as if it had been read from a file using the fromfile() method.\n",
      "     |\n",
      "     |  fromfile(self, f, n, /)\n",
      "     |      Read n objects from the file object f and append them to the end of the array.\n",
      "     |\n",
      "     |  fromlist(self, list, /)\n",
      "     |      Append items to array from list.\n",
      "     |\n",
      "     |  fromunicode(self, ustr, /)\n",
      "     |      Extends this array with data from the unicode string ustr.\n",
      "     |\n",
      "     |      The array must be a unicode type array; otherwise a ValueError is raised.\n",
      "     |      Use array.frombytes(ustr.encode(...)) to append Unicode data to an array of\n",
      "     |      some other type.\n",
      "     |\n",
      "     |  index(self, v, start=0, stop=9223372036854775807, /)\n",
      "     |      Return index of first occurrence of v in the array.\n",
      "     |\n",
      "     |      Raise ValueError if the value is not present.\n",
      "     |\n",
      "     |  insert(self, i, v, /)\n",
      "     |      Insert a new item v into the array before position i.\n",
      "     |\n",
      "     |  pop(self, i=-1, /)\n",
      "     |      Return the i-th element and delete it from the array.\n",
      "     |\n",
      "     |      i defaults to -1.\n",
      "     |\n",
      "     |  remove(self, v, /)\n",
      "     |      Remove the first occurrence of v in the array.\n",
      "     |\n",
      "     |  reverse(self, /)\n",
      "     |      Reverse the order of the items in the array.\n",
      "     |\n",
      "     |  tobytes(self, /)\n",
      "     |      Convert the array to an array of machine values and return the bytes representation.\n",
      "     |\n",
      "     |  tofile(self, f, /)\n",
      "     |      Write all items (as machine values) to the file object f.\n",
      "     |\n",
      "     |  tolist(self, /)\n",
      "     |      Convert array to an ordinary list with the same items.\n",
      "     |\n",
      "     |  tounicode(self, /)\n",
      "     |      Extends this array with data from the unicode string ustr.\n",
      "     |\n",
      "     |      Convert the array to a unicode string.  The array must be a unicode type array;\n",
      "     |      otherwise a ValueError is raised.  Use array.tobytes().decode() to obtain a\n",
      "     |      unicode string from an array of some other type.\n",
      "     |\n",
      "     |  ----------------------------------------------------------------------\n",
      "     |  Class methods defined here:\n",
      "     |\n",
      "     |  __class_getitem__(...)\n",
      "     |      See PEP 585\n",
      "     |\n",
      "     |  ----------------------------------------------------------------------\n",
      "     |  Static methods defined here:\n",
      "     |\n",
      "     |  __new__(*args, **kwargs)\n",
      "     |      Create and return a new object.  See help(type) for accurate signature.\n",
      "     |\n",
      "     |  ----------------------------------------------------------------------\n",
      "     |  Data descriptors defined here:\n",
      "     |\n",
      "     |  itemsize\n",
      "     |      the size, in bytes, of one array item\n",
      "     |\n",
      "     |  typecode\n",
      "     |      the typecode character used to create the array\n",
      "     |\n",
      "     |  ----------------------------------------------------------------------\n",
      "     |  Data and other attributes defined here:\n",
      "     |\n",
      "     |  __hash__ = None\n",
      "\n",
      "DATA\n",
      "    typecodes = 'bBuhHiIlLqQfd'\n",
      "\n",
      "FILE\n",
      "    (built-in)\n",
      "\n",
      "\n"
     ]
    }
   ],
   "source": [
    "help(array)"
   ]
  },
  {
   "cell_type": "code",
   "execution_count": 51,
   "id": "21dc7fe1-74ad-4eb0-a4bd-d1cf3548ebf4",
   "metadata": {},
   "outputs": [],
   "source": [
    "arr = array.array('i', l2)"
   ]
  },
  {
   "cell_type": "code",
   "execution_count": 53,
   "id": "bc95f839-27cf-4ecb-a266-f4945239a69a",
   "metadata": {},
   "outputs": [
    {
     "data": {
      "text/plain": [
       "array('i', [0, 1, 2, 3, 4, 5, 6, 7, 8, 9])"
      ]
     },
     "execution_count": 53,
     "metadata": {},
     "output_type": "execute_result"
    }
   ],
   "source": [
    "arr"
   ]
  },
  {
   "cell_type": "code",
   "execution_count": 55,
   "id": "84fff451-da9c-4d0b-913e-c158a0314a08",
   "metadata": {},
   "outputs": [
    {
     "data": {
      "text/plain": [
       "array.array"
      ]
     },
     "execution_count": 55,
     "metadata": {},
     "output_type": "execute_result"
    }
   ],
   "source": [
    "type(arr)"
   ]
  },
  {
   "cell_type": "code",
   "execution_count": 57,
   "id": "362aebfe-0dd4-4d81-8cf8-39c6a7ea79d5",
   "metadata": {},
   "outputs": [],
   "source": [
    "arr1 = array.array('i',[x**2 for x in l2])"
   ]
  },
  {
   "cell_type": "code",
   "execution_count": 59,
   "id": "6bbbdc54-85df-44c1-9ca7-f079e09021aa",
   "metadata": {},
   "outputs": [
    {
     "data": {
      "text/plain": [
       "array('i', [0, 1, 4, 9, 16, 25, 36, 49, 64, 81])"
      ]
     },
     "execution_count": 59,
     "metadata": {},
     "output_type": "execute_result"
    }
   ],
   "source": [
    "arr1"
   ]
  },
  {
   "cell_type": "code",
   "execution_count": 61,
   "id": "27e2c0b2-e4e5-45de-a7ee-9a9ad8c2859b",
   "metadata": {},
   "outputs": [
    {
     "data": {
      "text/plain": [
       "array([0, 1, 2, 3, 4, 5, 6, 7, 8, 9])"
      ]
     },
     "execution_count": 61,
     "metadata": {},
     "output_type": "execute_result"
    }
   ],
   "source": [
    "np.array(l2)"
   ]
  },
  {
   "cell_type": "code",
   "execution_count": 63,
   "id": "b8e8386d-1f24-43b2-a12c-ac6f7e5b45e8",
   "metadata": {},
   "outputs": [
    {
     "data": {
      "text/plain": [
       "array([ 3,  4,  5,  6,  7,  8,  9, 10, 11, 12])"
      ]
     },
     "execution_count": 63,
     "metadata": {},
     "output_type": "execute_result"
    }
   ],
   "source": [
    "np.array([x + 3 for x in range(0,10)])"
   ]
  },
  {
   "cell_type": "code",
   "execution_count": 65,
   "id": "a82a1003-be5f-4fe3-8940-9f7c56b8464f",
   "metadata": {},
   "outputs": [
    {
     "data": {
      "text/plain": [
       "array([-3, -2, -1,  0,  1,  2,  3,  4,  5,  6])"
      ]
     },
     "execution_count": 65,
     "metadata": {},
     "output_type": "execute_result"
    }
   ],
   "source": [
    "np.array([x - 3 for x in range(0,10)])"
   ]
  },
  {
   "cell_type": "code",
   "execution_count": 67,
   "id": "e32c8afb-0d28-4fc6-b18d-f5468457f9f4",
   "metadata": {},
   "outputs": [
    {
     "data": {
      "text/plain": [
       "array([1., 2., 3., 4., 5.])"
      ]
     },
     "execution_count": 67,
     "metadata": {},
     "output_type": "execute_result"
    }
   ],
   "source": [
    "np.array([1,2,3,4,5],dtype='float')"
   ]
  },
  {
   "cell_type": "code",
   "execution_count": 69,
   "id": "cacd0fe5-6f09-4e92-be61-a31d22bcae7b",
   "metadata": {},
   "outputs": [
    {
     "data": {
      "text/plain": [
       "array(['1', '2', '3', '4', '5'], dtype='<U1')"
      ]
     },
     "execution_count": 69,
     "metadata": {},
     "output_type": "execute_result"
    }
   ],
   "source": [
    "np.array([1,2,3,4,5],dtype=str)"
   ]
  },
  {
   "cell_type": "code",
   "execution_count": 71,
   "id": "e87652be-7497-4e06-8790-6dc29e5dc534",
   "metadata": {},
   "outputs": [
    {
     "data": {
      "text/plain": [
       "array([1., 2., 3., 4., 5.])"
      ]
     },
     "execution_count": 71,
     "metadata": {},
     "output_type": "execute_result"
    }
   ],
   "source": [
    "np.array([1,2,3,4,5],dtype=np.float64)"
   ]
  },
  {
   "cell_type": "code",
   "execution_count": 73,
   "id": "a8b68841-d8d2-484f-9e04-92f6abb09571",
   "metadata": {},
   "outputs": [],
   "source": [
    "l2d = [[1,2,3],[4,5,6]]"
   ]
  },
  {
   "cell_type": "code",
   "execution_count": 75,
   "id": "19ab066d-9e76-4a6a-8c5f-845c2920b417",
   "metadata": {},
   "outputs": [
    {
     "data": {
      "text/plain": [
       "[[1, 2, 3], [4, 5, 6]]"
      ]
     },
     "execution_count": 75,
     "metadata": {},
     "output_type": "execute_result"
    }
   ],
   "source": [
    "l2d"
   ]
  },
  {
   "cell_type": "code",
   "execution_count": 77,
   "id": "f3ab274e-524d-4dbd-991b-0834f7081b82",
   "metadata": {},
   "outputs": [],
   "source": [
    "lc2d = [range(i,i+3) for i in [1,4,7]]"
   ]
  },
  {
   "cell_type": "code",
   "execution_count": 79,
   "id": "90b97331-5717-439f-ae6c-acc471e74ac3",
   "metadata": {},
   "outputs": [
    {
     "data": {
      "text/plain": [
       "[range(1, 4), range(4, 7), range(7, 10)]"
      ]
     },
     "execution_count": 79,
     "metadata": {},
     "output_type": "execute_result"
    }
   ],
   "source": [
    "lc2d"
   ]
  },
  {
   "cell_type": "code",
   "execution_count": 81,
   "id": "0a960e1a-ba1a-4e5b-927e-00a7add4f48c",
   "metadata": {},
   "outputs": [
    {
     "data": {
      "text/plain": [
       "array([[1, 2, 3],\n",
       "       [4, 5, 6],\n",
       "       [7, 8, 9]])"
      ]
     },
     "execution_count": 81,
     "metadata": {},
     "output_type": "execute_result"
    }
   ],
   "source": [
    "np.array(lc2d)"
   ]
  },
  {
   "cell_type": "code",
   "execution_count": 83,
   "id": "0681809e-ccdc-4d73-88c4-d3fd9bb730ee",
   "metadata": {},
   "outputs": [
    {
     "data": {
      "text/plain": [
       "array([0., 0., 0., 0., 0., 0., 0., 0., 0., 0.])"
      ]
     },
     "execution_count": 83,
     "metadata": {},
     "output_type": "execute_result"
    }
   ],
   "source": [
    "np.zeros(10)"
   ]
  },
  {
   "cell_type": "code",
   "execution_count": 85,
   "id": "051dcc27-fd79-42f0-909b-1f55cb073e0f",
   "metadata": {},
   "outputs": [
    {
     "data": {
      "text/plain": [
       "array([[0., 0.],\n",
       "       [0., 0.]])"
      ]
     },
     "execution_count": 85,
     "metadata": {},
     "output_type": "execute_result"
    }
   ],
   "source": [
    "np.zeros([2,2])"
   ]
  },
  {
   "cell_type": "code",
   "execution_count": 87,
   "id": "dc275649-4804-461e-b2c9-f2415224431c",
   "metadata": {},
   "outputs": [
    {
     "data": {
      "text/plain": [
       "array([[0., 0., 0., 0.],\n",
       "       [0., 0., 0., 0.],\n",
       "       [0., 0., 0., 0.]])"
      ]
     },
     "execution_count": 87,
     "metadata": {},
     "output_type": "execute_result"
    }
   ],
   "source": [
    "np.zeros([3,4])"
   ]
  },
  {
   "cell_type": "code",
   "execution_count": 89,
   "id": "35a6f698-b06a-4377-acb1-24d52a2bd148",
   "metadata": {},
   "outputs": [
    {
     "data": {
      "text/plain": [
       "array([1, 1, 1, 1, 1, 1, 1, 1, 1, 1])"
      ]
     },
     "execution_count": 89,
     "metadata": {},
     "output_type": "execute_result"
    }
   ],
   "source": [
    "np.ones(10,dtype=int)"
   ]
  },
  {
   "cell_type": "code",
   "execution_count": 91,
   "id": "dd23ae45-ad53-46e8-adc6-68f7eb375f1e",
   "metadata": {},
   "outputs": [
    {
     "data": {
      "text/plain": [
       "array([[1, 1],\n",
       "       [1, 1]])"
      ]
     },
     "execution_count": 91,
     "metadata": {},
     "output_type": "execute_result"
    }
   ],
   "source": [
    "np.ones([2,2],dtype=int)"
   ]
  },
  {
   "cell_type": "code",
   "execution_count": 93,
   "id": "6caf21d3-20a9-49ee-9688-e87526b27c3f",
   "metadata": {},
   "outputs": [],
   "source": [
    "arr = np.ones([10,10], dtype = int)"
   ]
  },
  {
   "cell_type": "code",
   "execution_count": 95,
   "id": "d6a1e75e-c7c8-45b1-8e58-d95aab47ce0e",
   "metadata": {},
   "outputs": [
    {
     "data": {
      "text/plain": [
       "array([[1, 1, 1, 1, 1, 1, 1, 1, 1, 1],\n",
       "       [1, 1, 1, 1, 1, 1, 1, 1, 1, 1],\n",
       "       [1, 1, 1, 1, 1, 1, 1, 1, 1, 1],\n",
       "       [1, 1, 1, 1, 1, 1, 1, 1, 1, 1],\n",
       "       [1, 1, 1, 1, 1, 1, 1, 1, 1, 1],\n",
       "       [1, 1, 1, 1, 1, 1, 1, 1, 1, 1],\n",
       "       [1, 1, 1, 1, 1, 1, 1, 1, 1, 1],\n",
       "       [1, 1, 1, 1, 1, 1, 1, 1, 1, 1],\n",
       "       [1, 1, 1, 1, 1, 1, 1, 1, 1, 1],\n",
       "       [1, 1, 1, 1, 1, 1, 1, 1, 1, 1]])"
      ]
     },
     "execution_count": 95,
     "metadata": {},
     "output_type": "execute_result"
    }
   ],
   "source": [
    "arr"
   ]
  },
  {
   "cell_type": "code",
   "execution_count": 97,
   "id": "0c157eda-02cd-468e-893b-c52014b2b5c8",
   "metadata": {},
   "outputs": [],
   "source": [
    "arr[4:6,4:6] = 1"
   ]
  },
  {
   "cell_type": "code",
   "execution_count": 99,
   "id": "b1c53e17-b270-4a20-a248-81b21fb1c804",
   "metadata": {},
   "outputs": [
    {
     "data": {
      "text/plain": [
       "array([[1, 1, 1, 1, 1, 1, 1, 1, 1, 1],\n",
       "       [1, 1, 1, 1, 1, 1, 1, 1, 1, 1],\n",
       "       [1, 1, 1, 1, 1, 1, 1, 1, 1, 1],\n",
       "       [1, 1, 1, 1, 1, 1, 1, 1, 1, 1],\n",
       "       [1, 1, 1, 1, 1, 1, 1, 1, 1, 1],\n",
       "       [1, 1, 1, 1, 1, 1, 1, 1, 1, 1],\n",
       "       [1, 1, 1, 1, 1, 1, 1, 1, 1, 1],\n",
       "       [1, 1, 1, 1, 1, 1, 1, 1, 1, 1],\n",
       "       [1, 1, 1, 1, 1, 1, 1, 1, 1, 1],\n",
       "       [1, 1, 1, 1, 1, 1, 1, 1, 1, 1]])"
      ]
     },
     "execution_count": 99,
     "metadata": {},
     "output_type": "execute_result"
    }
   ],
   "source": [
    "arr"
   ]
  },
  {
   "cell_type": "code",
   "execution_count": 101,
   "id": "8278f3ee-0f26-4c74-bed0-8660bbbd3cd6",
   "metadata": {},
   "outputs": [],
   "source": [
    "arr = np.ones([3,3],dtype = int)"
   ]
  },
  {
   "cell_type": "code",
   "execution_count": 107,
   "id": "5e233550-caa5-4ca4-9009-8a3c0a3ec9ee",
   "metadata": {},
   "outputs": [
    {
     "data": {
      "text/plain": [
       "array([[3.1, 3.1, 3.1],\n",
       "       [3.1, 3.1, 3.1],\n",
       "       [3.1, 3.1, 3.1]])"
      ]
     },
     "execution_count": 107,
     "metadata": {},
     "output_type": "execute_result"
    }
   ],
   "source": [
    "3.1*arr"
   ]
  },
  {
   "cell_type": "code",
   "execution_count": 109,
   "id": "d56b60a5-9865-4836-9c83-a04837583fba",
   "metadata": {},
   "outputs": [
    {
     "data": {
      "text/plain": [
       "array([[3.14, 3.14, 3.14, 3.14],\n",
       "       [3.14, 3.14, 3.14, 3.14],\n",
       "       [3.14, 3.14, 3.14, 3.14]])"
      ]
     },
     "execution_count": 109,
     "metadata": {},
     "output_type": "execute_result"
    }
   ],
   "source": [
    "np.full((3,4),3.14)"
   ]
  },
  {
   "cell_type": "code",
   "execution_count": 111,
   "id": "2d2b0f9d-9097-4486-b06d-6d6ea7d8d1e4",
   "metadata": {},
   "outputs": [],
   "source": [
    "arr = np.eye(3,dtype = int)"
   ]
  },
  {
   "cell_type": "code",
   "execution_count": 113,
   "id": "83258d3a-d2dd-4920-a572-d34f9c56adee",
   "metadata": {},
   "outputs": [
    {
     "data": {
      "text/plain": [
       "array([[1, 0, 0],\n",
       "       [0, 1, 0],\n",
       "       [0, 0, 1]])"
      ]
     },
     "execution_count": 113,
     "metadata": {},
     "output_type": "execute_result"
    }
   ],
   "source": [
    "np.transpose(arr)"
   ]
  },
  {
   "cell_type": "code",
   "execution_count": 115,
   "id": "a2cc09f4-28a7-49e5-937f-fa3700867f17",
   "metadata": {},
   "outputs": [],
   "source": [
    "ar1 = np.ones([6,6], dtype = int)"
   ]
  },
  {
   "cell_type": "code",
   "execution_count": 117,
   "id": "96e41832-c570-4c11-8b67-34364bffc6e3",
   "metadata": {},
   "outputs": [
    {
     "data": {
      "text/plain": [
       "array([[64, 64, 64, 64, 64, 64],\n",
       "       [64, 64, 64, 64, 64, 64],\n",
       "       [64, 64, 64, 64, 64, 64],\n",
       "       [64, 64, 64, 64, 64, 64],\n",
       "       [64, 64, 64, 64, 64, 64],\n",
       "       [64, 64, 64, 64, 64, 64]])"
      ]
     },
     "execution_count": 117,
     "metadata": {},
     "output_type": "execute_result"
    }
   ],
   "source": [
    "64*ar1"
   ]
  },
  {
   "cell_type": "code",
   "execution_count": 119,
   "id": "13d5f9b5-dd5b-4e82-b4bc-4eff2dae5740",
   "metadata": {},
   "outputs": [
    {
     "data": {
      "text/plain": [
       "array([[64, 64, 64, 64, 64, 64],\n",
       "       [64, 64, 64, 64, 64, 64],\n",
       "       [64, 64, 64, 64, 64, 64],\n",
       "       [64, 64, 64, 64, 64, 64],\n",
       "       [64, 64, 64, 64, 64, 64],\n",
       "       [64, 64, 64, 64, 64, 64]])"
      ]
     },
     "execution_count": 119,
     "metadata": {},
     "output_type": "execute_result"
    }
   ],
   "source": [
    "np.full([6,6], 64, dtype = int)"
   ]
  },
  {
   "cell_type": "code",
   "execution_count": 121,
   "id": "16cdb303-e5d2-422f-93cd-f7605cc20882",
   "metadata": {},
   "outputs": [
    {
     "data": {
      "text/plain": [
       "array([0.  , 0.25, 0.5 , 0.75, 1.  ])"
      ]
     },
     "execution_count": 121,
     "metadata": {},
     "output_type": "execute_result"
    }
   ],
   "source": [
    "#linspace function => Linearly spaced elements.\n",
    "\n",
    "np.linspace(0,1,5)"
   ]
  },
  {
   "cell_type": "code",
   "execution_count": 123,
   "id": "f1b510ef-46f1-4dec-8694-2bfcc3cae1cc",
   "metadata": {},
   "outputs": [
    {
     "data": {
      "text/plain": [
       "array([  0.,  25.,  50.,  75., 100.])"
      ]
     },
     "execution_count": 123,
     "metadata": {},
     "output_type": "execute_result"
    }
   ],
   "source": [
    "np.linspace(0,100,5)"
   ]
  },
  {
   "cell_type": "code",
   "execution_count": 125,
   "id": "2f23820b-c84d-4148-90c6-8f780b527b38",
   "metadata": {},
   "outputs": [],
   "source": [
    "import numpy as np"
   ]
  },
  {
   "cell_type": "code",
   "execution_count": 127,
   "id": "cf3f0413-15e0-416f-bf0d-fce373d69043",
   "metadata": {},
   "outputs": [],
   "source": [
    "#shallow copy\n",
    "a=np.arange(1,10).reshape(3,3)"
   ]
  },
  {
   "cell_type": "code",
   "execution_count": 129,
   "id": "1629aa9a-3ac9-4f21-b42f-970ed34a404f",
   "metadata": {},
   "outputs": [
    {
     "data": {
      "text/plain": [
       "array([[1, 2, 3],\n",
       "       [4, 5, 6],\n",
       "       [7, 8, 9]])"
      ]
     },
     "execution_count": 129,
     "metadata": {},
     "output_type": "execute_result"
    }
   ],
   "source": [
    "a"
   ]
  },
  {
   "cell_type": "code",
   "execution_count": 131,
   "id": "76c14665-ccea-4216-841f-6fb9d406be35",
   "metadata": {},
   "outputs": [
    {
     "data": {
      "text/plain": [
       "array([[1, 2],\n",
       "       [4, 5]])"
      ]
     },
     "execution_count": 131,
     "metadata": {},
     "output_type": "execute_result"
    }
   ],
   "source": [
    "a[:2,:2]"
   ]
  },
  {
   "cell_type": "code",
   "execution_count": 133,
   "id": "327d7f1b-c51b-4499-833b-d167d6569d06",
   "metadata": {},
   "outputs": [],
   "source": [
    "#deep copy\n",
    "da=a[:2,:2].copy()"
   ]
  },
  {
   "cell_type": "code",
   "execution_count": 135,
   "id": "dedf2ebe-fd11-4b5c-a3e0-6f41a6b4697f",
   "metadata": {},
   "outputs": [
    {
     "data": {
      "text/plain": [
       "array([[1, 2],\n",
       "       [4, 5]])"
      ]
     },
     "execution_count": 135,
     "metadata": {},
     "output_type": "execute_result"
    }
   ],
   "source": [
    "da"
   ]
  },
  {
   "cell_type": "code",
   "execution_count": 137,
   "id": "473f782e-e3ad-47a9-8823-58072c31f0a1",
   "metadata": {},
   "outputs": [],
   "source": [
    "a[0,0]=11"
   ]
  },
  {
   "cell_type": "code",
   "execution_count": 139,
   "id": "e37e8328-8e25-48cf-bfa6-1dfd88c6fc09",
   "metadata": {},
   "outputs": [
    {
     "data": {
      "text/plain": [
       "array([[11,  2,  3],\n",
       "       [ 4,  5,  6],\n",
       "       [ 7,  8,  9]])"
      ]
     },
     "execution_count": 139,
     "metadata": {},
     "output_type": "execute_result"
    }
   ],
   "source": [
    "a"
   ]
  },
  {
   "cell_type": "code",
   "execution_count": 141,
   "id": "bba88683-1bd7-488b-82a7-b6ee939fe4af",
   "metadata": {},
   "outputs": [
    {
     "data": {
      "text/plain": [
       "array([[1, 2],\n",
       "       [4, 5]])"
      ]
     },
     "execution_count": 141,
     "metadata": {},
     "output_type": "execute_result"
    }
   ],
   "source": [
    "da"
   ]
  },
  {
   "cell_type": "code",
   "execution_count": 143,
   "id": "345ddc08-74bc-487e-a339-4217500ece06",
   "metadata": {},
   "outputs": [],
   "source": [
    "da[1,1]=5"
   ]
  },
  {
   "cell_type": "code",
   "execution_count": 145,
   "id": "d196bc82-84f6-41b9-afaf-13287702199c",
   "metadata": {},
   "outputs": [
    {
     "data": {
      "text/plain": [
       "array([[11,  2,  3],\n",
       "       [ 4,  5,  6],\n",
       "       [ 7,  8,  9]])"
      ]
     },
     "execution_count": 145,
     "metadata": {},
     "output_type": "execute_result"
    }
   ],
   "source": [
    "a"
   ]
  },
  {
   "cell_type": "code",
   "execution_count": 147,
   "id": "1d2164bb-e4e0-46bd-90d8-f2241dfbb1c5",
   "metadata": {},
   "outputs": [
    {
     "data": {
      "text/plain": [
       "array([1, 2, 3, 4])"
      ]
     },
     "execution_count": 147,
     "metadata": {},
     "output_type": "execute_result"
    }
   ],
   "source": [
    "c=np.arange(1,5)\n",
    "c"
   ]
  },
  {
   "cell_type": "code",
   "execution_count": 149,
   "id": "9990009c-444b-40a0-badc-b5045fc5cf36",
   "metadata": {},
   "outputs": [
    {
     "data": {
      "text/plain": [
       "array([[1, 2],\n",
       "       [3, 4]])"
      ]
     },
     "execution_count": 149,
     "metadata": {},
     "output_type": "execute_result"
    }
   ],
   "source": [
    "c.reshape(2,2)"
   ]
  },
  {
   "cell_type": "code",
   "execution_count": 151,
   "id": "0db8378e-3608-4766-a12f-4b95f626f0e7",
   "metadata": {},
   "outputs": [
    {
     "data": {
      "text/plain": [
       "array([[1, 2, 3],\n",
       "       [4, 5, 6],\n",
       "       [7, 8, 9]])"
      ]
     },
     "execution_count": 151,
     "metadata": {},
     "output_type": "execute_result"
    }
   ],
   "source": [
    "ar=np.arange(1,10).reshape(3,3)\n",
    "ar"
   ]
  },
  {
   "cell_type": "code",
   "execution_count": 153,
   "id": "159d927f-b859-40a3-8d2f-fad2557c4acd",
   "metadata": {},
   "outputs": [],
   "source": [
    "import numpy as np"
   ]
  },
  {
   "cell_type": "markdown",
   "id": "cc6f866a-ae62-4e04-af4d-dddc9a8497ed",
   "metadata": {},
   "source": [
    "# Shallow & Deep Copy\n",
    "# Reshape ~ Flatten , Reval\n",
    "# Concatenation"
   ]
  },
  {
   "cell_type": "code",
   "execution_count": 158,
   "id": "037f3232-4ba9-4803-841a-0a7b2e96c93d",
   "metadata": {},
   "outputs": [],
   "source": [
    "arr1 = np.random.randint(0,18,(6,6))"
   ]
  },
  {
   "cell_type": "code",
   "execution_count": 160,
   "id": "5cc273f3-8eb0-48cd-b7cb-b6da91c97832",
   "metadata": {},
   "outputs": [
    {
     "data": {
      "text/plain": [
       "array([[16,  3, 15, 15, 10,  7],\n",
       "       [12, 11,  8,  4, 12, 15],\n",
       "       [14, 13, 15, 10,  4,  4],\n",
       "       [ 5,  5,  3,  3,  5, 12],\n",
       "       [ 9,  3,  0, 13,  8,  4],\n",
       "       [ 8,  3, 14,  3, 10, 14]])"
      ]
     },
     "execution_count": 160,
     "metadata": {},
     "output_type": "execute_result"
    }
   ],
   "source": [
    "arr1"
   ]
  },
  {
   "cell_type": "code",
   "execution_count": 162,
   "id": "6cc52f43-f0ed-444f-9341-83ae06c99f46",
   "metadata": {},
   "outputs": [
    {
     "data": {
      "text/plain": [
       "array([[16,  3, 15],\n",
       "       [12, 11,  8],\n",
       "       [14, 13, 15]])"
      ]
     },
     "execution_count": 162,
     "metadata": {},
     "output_type": "execute_result"
    }
   ],
   "source": [
    "arr1[0:3,0:3]"
   ]
  },
  {
   "cell_type": "code",
   "execution_count": 164,
   "id": "9e66bbbb-69be-4cf9-8e54-d2adce396438",
   "metadata": {},
   "outputs": [
    {
     "data": {
      "text/plain": [
       "array([[ 3, 15],\n",
       "       [11,  8],\n",
       "       [13, 15]])"
      ]
     },
     "execution_count": 164,
     "metadata": {},
     "output_type": "execute_result"
    }
   ],
   "source": [
    "arr1[0:3,1:3]"
   ]
  },
  {
   "cell_type": "code",
   "execution_count": 166,
   "id": "345d4e21-0133-4e1d-8cbe-5bc0ac05a303",
   "metadata": {},
   "outputs": [
    {
     "data": {
      "text/plain": [
       "array([[10,  4],\n",
       "       [ 3,  5],\n",
       "       [13,  8]])"
      ]
     },
     "execution_count": 166,
     "metadata": {},
     "output_type": "execute_result"
    }
   ],
   "source": [
    "arr1[2:5,3:5]"
   ]
  },
  {
   "cell_type": "code",
   "execution_count": 168,
   "id": "27cdb065-296d-47af-877e-480b7e5fa514",
   "metadata": {},
   "outputs": [
    {
     "data": {
      "text/plain": [
       "array([[16,  3, 15, 15, 10,  7],\n",
       "       [12, 11,  8,  4, 12, 15],\n",
       "       [14, 13, 15, 10,  4,  4],\n",
       "       [ 5,  5,  3,  3,  5, 12],\n",
       "       [ 9,  3,  0, 13,  8,  4],\n",
       "       [ 8,  3, 14,  3, 10, 14]])"
      ]
     },
     "execution_count": 168,
     "metadata": {},
     "output_type": "execute_result"
    }
   ],
   "source": [
    "arr1[::,::]"
   ]
  },
  {
   "cell_type": "code",
   "execution_count": 170,
   "id": "86813e97-a9d5-4eed-9a18-86baf2d2486d",
   "metadata": {},
   "outputs": [
    {
     "data": {
      "text/plain": [
       "array([[16,  3, 15, 15, 10,  7],\n",
       "       [12, 11,  8,  4, 12, 15],\n",
       "       [14, 13, 15, 10,  4,  4],\n",
       "       [ 5,  5,  3,  3,  5, 12],\n",
       "       [ 9,  3,  0, 13,  8,  4],\n",
       "       [ 8,  3, 14,  3, 10, 14]])"
      ]
     },
     "execution_count": 170,
     "metadata": {},
     "output_type": "execute_result"
    }
   ],
   "source": [
    "arr1[::,::]"
   ]
  },
  {
   "cell_type": "code",
   "execution_count": 172,
   "id": "54fed8b2-509c-40a0-be4c-17df4fae0b4f",
   "metadata": {},
   "outputs": [
    {
     "data": {
      "text/plain": [
       "array([[16,  3, 15, 15, 10,  7],\n",
       "       [14, 13, 15, 10,  4,  4],\n",
       "       [ 9,  3,  0, 13,  8,  4]])"
      ]
     },
     "execution_count": 172,
     "metadata": {},
     "output_type": "execute_result"
    }
   ],
   "source": [
    "arr1[::2,::]"
   ]
  },
  {
   "cell_type": "code",
   "execution_count": 174,
   "id": "8048a87c-4aa9-47ff-8fd5-84d123757613",
   "metadata": {},
   "outputs": [
    {
     "data": {
      "text/plain": [
       "array([[16, 15, 10],\n",
       "       [12,  8, 12],\n",
       "       [14, 15,  4],\n",
       "       [ 5,  3,  5],\n",
       "       [ 9,  0,  8],\n",
       "       [ 8, 14, 10]])"
      ]
     },
     "execution_count": 174,
     "metadata": {},
     "output_type": "execute_result"
    }
   ],
   "source": [
    "arr1[::,::2]"
   ]
  },
  {
   "cell_type": "code",
   "execution_count": 176,
   "id": "94aedc8f-221d-4bfb-8c48-610210de54ff",
   "metadata": {},
   "outputs": [
    {
     "data": {
      "text/plain": [
       "array([[ 8,  3, 14,  3, 10, 14],\n",
       "       [ 9,  3,  0, 13,  8,  4],\n",
       "       [ 5,  5,  3,  3,  5, 12],\n",
       "       [14, 13, 15, 10,  4,  4],\n",
       "       [12, 11,  8,  4, 12, 15],\n",
       "       [16,  3, 15, 15, 10,  7]])"
      ]
     },
     "execution_count": 176,
     "metadata": {},
     "output_type": "execute_result"
    }
   ],
   "source": [
    "arr1[::-1,::]"
   ]
  },
  {
   "cell_type": "code",
   "execution_count": 178,
   "id": "0cb87d6d-5488-480a-ac74-72bd8b688737",
   "metadata": {},
   "outputs": [
    {
     "data": {
      "text/plain": [
       "array([[14, 10,  3, 14,  3,  8],\n",
       "       [ 4,  8, 13,  0,  3,  9],\n",
       "       [12,  5,  3,  3,  5,  5],\n",
       "       [ 4,  4, 10, 15, 13, 14],\n",
       "       [15, 12,  4,  8, 11, 12],\n",
       "       [ 7, 10, 15, 15,  3, 16]])"
      ]
     },
     "execution_count": 178,
     "metadata": {},
     "output_type": "execute_result"
    }
   ],
   "source": [
    "arr1[::-1,::-1]"
   ]
  },
  {
   "cell_type": "code",
   "execution_count": 180,
   "id": "1bd99db9-7bb1-48b0-95f4-9b5a254b4510",
   "metadata": {},
   "outputs": [],
   "source": [
    "matrix1 = np.eye(4)"
   ]
  },
  {
   "cell_type": "code",
   "execution_count": 182,
   "id": "ca647512-ce76-4d6a-8a0b-235ff9811315",
   "metadata": {},
   "outputs": [],
   "source": [
    "matrix2 = matrix1 + 4"
   ]
  },
  {
   "cell_type": "code",
   "execution_count": 184,
   "id": "038c9ef7-4855-4351-aa32-da06057649f6",
   "metadata": {},
   "outputs": [
    {
     "name": "stdout",
     "output_type": "stream",
     "text": [
      "[[5. 4. 4. 4.]\n",
      " [4. 5. 4. 4.]\n",
      " [4. 4. 5. 4.]\n",
      " [4. 4. 4. 5.]]\n"
     ]
    }
   ],
   "source": [
    "print(matrix2)"
   ]
  },
  {
   "cell_type": "markdown",
   "id": "49081fe2-b163-4064-9ab2-71d668d6587e",
   "metadata": {},
   "source": [
    "# Shallow & Deep Copy"
   ]
  },
  {
   "cell_type": "code",
   "execution_count": 191,
   "id": "ff3a9e6f-67f0-4a79-80f7-b5b08186cd91",
   "metadata": {},
   "outputs": [],
   "source": [
    "a = np.arange(1,10).reshape(3, 3)"
   ]
  },
  {
   "cell_type": "code",
   "execution_count": 193,
   "id": "5dd4a251-0740-4f97-834f-4b9e4320ce60",
   "metadata": {},
   "outputs": [
    {
     "data": {
      "text/plain": [
       "array([[1, 2, 3],\n",
       "       [4, 5, 6],\n",
       "       [7, 8, 9]])"
      ]
     },
     "execution_count": 193,
     "metadata": {},
     "output_type": "execute_result"
    }
   ],
   "source": [
    "a"
   ]
  },
  {
   "cell_type": "code",
   "execution_count": 195,
   "id": "7f91835c-c718-4813-b364-f2504867db9e",
   "metadata": {},
   "outputs": [
    {
     "data": {
      "text/plain": [
       "array([[5, 6],\n",
       "       [8, 9]])"
      ]
     },
     "execution_count": 195,
     "metadata": {},
     "output_type": "execute_result"
    }
   ],
   "source": [
    "a[1:,1:3]"
   ]
  },
  {
   "cell_type": "code",
   "execution_count": 197,
   "id": "7358f19b-ca47-457a-8f81-f29dad66027c",
   "metadata": {},
   "outputs": [
    {
     "data": {
      "text/plain": [
       "array([[5, 6],\n",
       "       [8, 9]])"
      ]
     },
     "execution_count": 197,
     "metadata": {},
     "output_type": "execute_result"
    }
   ],
   "source": [
    "#Shallow Copy\n",
    "sa=a[1:3,1:3]\n",
    "sa"
   ]
  },
  {
   "cell_type": "code",
   "execution_count": 199,
   "id": "0d790153-2f02-4ef6-8984-be58fc534d09",
   "metadata": {},
   "outputs": [
    {
     "data": {
      "text/plain": [
       "array([[ 5,  6],\n",
       "       [ 8, 19]])"
      ]
     },
     "execution_count": 199,
     "metadata": {},
     "output_type": "execute_result"
    }
   ],
   "source": [
    "sa[1,1]=19\n",
    "sa"
   ]
  },
  {
   "cell_type": "code",
   "execution_count": 201,
   "id": "3dffa54a-3f20-4c03-a10b-bb7506aec725",
   "metadata": {},
   "outputs": [
    {
     "data": {
      "text/plain": [
       "array([[ 1,  2,  3],\n",
       "       [ 4,  5,  6],\n",
       "       [ 7,  8, 19]])"
      ]
     },
     "execution_count": 201,
     "metadata": {},
     "output_type": "execute_result"
    }
   ],
   "source": [
    "a"
   ]
  },
  {
   "cell_type": "code",
   "execution_count": 203,
   "id": "27de256f-3c45-4a13-821e-3383ab066ef5",
   "metadata": {},
   "outputs": [],
   "source": [
    "a[1,2]=16"
   ]
  },
  {
   "cell_type": "code",
   "execution_count": 205,
   "id": "17ec6f59-8d94-450d-a728-c68c9b5acd3a",
   "metadata": {},
   "outputs": [
    {
     "data": {
      "text/plain": [
       "array([[ 5, 16],\n",
       "       [ 8, 19]])"
      ]
     },
     "execution_count": 205,
     "metadata": {},
     "output_type": "execute_result"
    }
   ],
   "source": [
    "sa"
   ]
  },
  {
   "cell_type": "code",
   "execution_count": 207,
   "id": "fdc9ee18-e038-442d-9404-49e280620b34",
   "metadata": {},
   "outputs": [
    {
     "data": {
      "text/plain": [
       "array([[ 1,  2,  3],\n",
       "       [ 4,  5, 16],\n",
       "       [ 7,  8, 19]])"
      ]
     },
     "execution_count": 207,
     "metadata": {},
     "output_type": "execute_result"
    }
   ],
   "source": [
    "a"
   ]
  },
  {
   "cell_type": "code",
   "execution_count": 209,
   "id": "5adc5d0c-7727-462b-8049-456a91600759",
   "metadata": {},
   "outputs": [
    {
     "data": {
      "text/plain": [
       "array([[1, 2],\n",
       "       [4, 5]])"
      ]
     },
     "execution_count": 209,
     "metadata": {},
     "output_type": "execute_result"
    }
   ],
   "source": [
    "a[:2,:2]"
   ]
  },
  {
   "cell_type": "code",
   "execution_count": 211,
   "id": "a42e085c-d6fa-4622-80a0-c9f796d3cd00",
   "metadata": {},
   "outputs": [
    {
     "data": {
      "text/plain": [
       "array([[1, 2],\n",
       "       [4, 5]])"
      ]
     },
     "execution_count": 211,
     "metadata": {},
     "output_type": "execute_result"
    }
   ],
   "source": [
    "#Deep Copy\n",
    "da = a[:2,:2].copy()\n",
    "da"
   ]
  },
  {
   "cell_type": "code",
   "execution_count": 213,
   "id": "6721c729-d06a-4b5b-aa3a-643d0d29a6b5",
   "metadata": {},
   "outputs": [
    {
     "data": {
      "text/plain": [
       "array([[11,  2,  3],\n",
       "       [ 4,  5, 16],\n",
       "       [ 7,  8, 19]])"
      ]
     },
     "execution_count": 213,
     "metadata": {},
     "output_type": "execute_result"
    }
   ],
   "source": [
    "a[0,0]=11\n",
    "a"
   ]
  },
  {
   "cell_type": "code",
   "execution_count": 215,
   "id": "dafcf8b4-9dd9-46af-be24-889721b3289e",
   "metadata": {},
   "outputs": [
    {
     "data": {
      "text/plain": [
       "array([[1, 2],\n",
       "       [4, 5]])"
      ]
     },
     "execution_count": 215,
     "metadata": {},
     "output_type": "execute_result"
    }
   ],
   "source": [
    "da"
   ]
  },
  {
   "cell_type": "code",
   "execution_count": 217,
   "id": "38840c39-a734-4c09-81f6-ed3dcf7a6499",
   "metadata": {},
   "outputs": [],
   "source": [
    "ar = np.array([1, 2, 3])"
   ]
  },
  {
   "cell_type": "code",
   "execution_count": 219,
   "id": "66c7f5fe-7c96-4133-a913-030d2e3c6669",
   "metadata": {},
   "outputs": [
    {
     "data": {
      "text/plain": [
       "array([1, 2, 3])"
      ]
     },
     "execution_count": 219,
     "metadata": {},
     "output_type": "execute_result"
    }
   ],
   "source": [
    "ar"
   ]
  },
  {
   "cell_type": "code",
   "execution_count": 221,
   "id": "e73b6747-8368-4ce3-a8ba-d119377c46b9",
   "metadata": {},
   "outputs": [
    {
     "data": {
      "text/plain": [
       "array([[1],\n",
       "       [2],\n",
       "       [3]])"
      ]
     },
     "execution_count": 221,
     "metadata": {},
     "output_type": "execute_result"
    }
   ],
   "source": [
    "ar.reshape(3,1)"
   ]
  },
  {
   "cell_type": "code",
   "execution_count": 223,
   "id": "1bd983a6-1ad6-463e-a843-b5129b0fa722",
   "metadata": {},
   "outputs": [
    {
     "data": {
      "text/plain": [
       "array([0, 1, 2, 3, 4, 5, 6, 7, 8])"
      ]
     },
     "execution_count": 223,
     "metadata": {},
     "output_type": "execute_result"
    }
   ],
   "source": [
    "ar1 = np.arange(0,9)\n",
    "ar1"
   ]
  },
  {
   "cell_type": "code",
   "execution_count": 225,
   "id": "dd079584-fd03-46bd-a884-10b52d5c10fe",
   "metadata": {},
   "outputs": [
    {
     "data": {
      "text/plain": [
       "array([[0, 1, 2],\n",
       "       [3, 4, 5],\n",
       "       [6, 7, 8]])"
      ]
     },
     "execution_count": 225,
     "metadata": {},
     "output_type": "execute_result"
    }
   ],
   "source": [
    "ar1.reshape(3,3)"
   ]
  },
  {
   "cell_type": "code",
   "execution_count": 227,
   "id": "e283c119-09f9-44b8-9d30-4a5b01a5854c",
   "metadata": {},
   "outputs": [
    {
     "data": {
      "text/plain": [
       "array([[0, 1, 2, 3, 4, 5, 6, 7, 8]])"
      ]
     },
     "execution_count": 227,
     "metadata": {},
     "output_type": "execute_result"
    }
   ],
   "source": [
    "ar1.reshape(1,9)"
   ]
  },
  {
   "cell_type": "code",
   "execution_count": 229,
   "id": "940a6abd-16f0-4319-949b-2d47bc5aacad",
   "metadata": {},
   "outputs": [
    {
     "data": {
      "text/plain": [
       "\u001b[1;31mDocstring:\u001b[0m\n",
       "a.ravel([order])\n",
       "\n",
       "Return a flattened array.\n",
       "\n",
       "Refer to `numpy.ravel` for full documentation.\n",
       "\n",
       "See Also\n",
       "--------\n",
       "numpy.ravel : equivalent function\n",
       "\n",
       "ndarray.flat : a flat iterator on the array.\n",
       "\u001b[1;31mType:\u001b[0m      builtin_function_or_method"
      ]
     },
     "metadata": {},
     "output_type": "display_data"
    }
   ],
   "source": [
    "ar1.ravel?"
   ]
  },
  {
   "cell_type": "code",
   "execution_count": 231,
   "id": "9ac451a3-c2ea-45c1-88de-99a1710066af",
   "metadata": {
    "scrolled": true
   },
   "outputs": [
    {
     "data": {
      "text/plain": [
       "\u001b[1;31mDocstring:\u001b[0m\n",
       "a.flatten(order='C')\n",
       "\n",
       "Return a copy of the array collapsed into one dimension.\n",
       "\n",
       "Parameters\n",
       "----------\n",
       "order : {'C', 'F', 'A', 'K'}, optional\n",
       "    'C' means to flatten in row-major (C-style) order.\n",
       "    'F' means to flatten in column-major (Fortran-\n",
       "    style) order. 'A' means to flatten in column-major\n",
       "    order if `a` is Fortran *contiguous* in memory,\n",
       "    row-major order otherwise. 'K' means to flatten\n",
       "    `a` in the order the elements occur in memory.\n",
       "    The default is 'C'.\n",
       "\n",
       "Returns\n",
       "-------\n",
       "y : ndarray\n",
       "    A copy of the input array, flattened to one dimension.\n",
       "\n",
       "See Also\n",
       "--------\n",
       "ravel : Return a flattened array.\n",
       "flat : A 1-D flat iterator over the array.\n",
       "\n",
       "Examples\n",
       "--------\n",
       ">>> a = np.array([[1,2], [3,4]])\n",
       ">>> a.flatten()\n",
       "array([1, 2, 3, 4])\n",
       ">>> a.flatten('F')\n",
       "array([1, 3, 2, 4])\n",
       "\u001b[1;31mType:\u001b[0m      builtin_function_or_method"
      ]
     },
     "metadata": {},
     "output_type": "display_data"
    }
   ],
   "source": [
    "ar1.flatten?"
   ]
  },
  {
   "cell_type": "code",
   "execution_count": 233,
   "id": "4f1fc961-3934-441f-9784-495f955721fc",
   "metadata": {},
   "outputs": [
    {
     "data": {
      "text/plain": [
       "array([0, 1, 2, 3, 4, 5, 6, 7, 8])"
      ]
     },
     "execution_count": 233,
     "metadata": {},
     "output_type": "execute_result"
    }
   ],
   "source": [
    "ar1.ravel()"
   ]
  },
  {
   "cell_type": "code",
   "execution_count": 235,
   "id": "a8a53040-328f-4ad5-b297-4a9f44546646",
   "metadata": {},
   "outputs": [],
   "source": [
    "ar1 = ar1.flatten()"
   ]
  },
  {
   "cell_type": "code",
   "execution_count": 239,
   "id": "66ff6a26-6dca-4569-8994-17d4bc2116d8",
   "metadata": {},
   "outputs": [
    {
     "data": {
      "text/plain": [
       "array([0, 1, 2, 3, 4, 5, 6, 7, 8])"
      ]
     },
     "execution_count": 239,
     "metadata": {},
     "output_type": "execute_result"
    }
   ],
   "source": [
    "ar1"
   ]
  },
  {
   "cell_type": "code",
   "execution_count": 241,
   "id": "57e0ae4a-6c54-4d42-a716-c2f861d4a3e5",
   "metadata": {},
   "outputs": [
    {
     "data": {
      "text/plain": [
       "array([[0],\n",
       "       [1],\n",
       "       [2],\n",
       "       [3],\n",
       "       [4],\n",
       "       [5],\n",
       "       [6],\n",
       "       [7],\n",
       "       [8]])"
      ]
     },
     "execution_count": 241,
     "metadata": {},
     "output_type": "execute_result"
    }
   ],
   "source": [
    "ar1[:,np.newaxis]"
   ]
  },
  {
   "cell_type": "markdown",
   "id": "002e4392-e622-4827-bdac-8e9b481210db",
   "metadata": {},
   "source": [
    "# Concatenation , Joining Of Two Arrays"
   ]
  },
  {
   "cell_type": "code",
   "execution_count": 246,
   "id": "cf9cd9cc-2354-4734-9457-e8843fd6a30c",
   "metadata": {},
   "outputs": [
    {
     "data": {
      "text/plain": [
       "\u001b[1;31mCall signature:\u001b[0m  \u001b[0mnp\u001b[0m\u001b[1;33m.\u001b[0m\u001b[0mconcatenate\u001b[0m\u001b[1;33m(\u001b[0m\u001b[1;33m*\u001b[0m\u001b[0margs\u001b[0m\u001b[1;33m,\u001b[0m \u001b[1;33m**\u001b[0m\u001b[0mkwargs\u001b[0m\u001b[1;33m)\u001b[0m\u001b[1;33m\u001b[0m\u001b[1;33m\u001b[0m\u001b[0m\n",
       "\u001b[1;31mType:\u001b[0m            _ArrayFunctionDispatcher\n",
       "\u001b[1;31mString form:\u001b[0m     <built-in function concatenate>\n",
       "\u001b[1;31mDocstring:\u001b[0m      \n",
       "concatenate((a1, a2, ...), axis=0, out=None, dtype=None, casting=\"same_kind\")\n",
       "\n",
       "Join a sequence of arrays along an existing axis.\n",
       "\n",
       "Parameters\n",
       "----------\n",
       "a1, a2, ... : sequence of array_like\n",
       "    The arrays must have the same shape, except in the dimension\n",
       "    corresponding to `axis` (the first, by default).\n",
       "axis : int, optional\n",
       "    The axis along which the arrays will be joined.  If axis is None,\n",
       "    arrays are flattened before use.  Default is 0.\n",
       "out : ndarray, optional\n",
       "    If provided, the destination to place the result. The shape must be\n",
       "    correct, matching that of what concatenate would have returned if no\n",
       "    out argument were specified.\n",
       "dtype : str or dtype\n",
       "    If provided, the destination array will have this dtype. Cannot be\n",
       "    provided together with `out`.\n",
       "\n",
       "    .. versionadded:: 1.20.0\n",
       "\n",
       "casting : {'no', 'equiv', 'safe', 'same_kind', 'unsafe'}, optional\n",
       "    Controls what kind of data casting may occur. Defaults to 'same_kind'.\n",
       "\n",
       "    .. versionadded:: 1.20.0\n",
       "\n",
       "Returns\n",
       "-------\n",
       "res : ndarray\n",
       "    The concatenated array.\n",
       "\n",
       "See Also\n",
       "--------\n",
       "ma.concatenate : Concatenate function that preserves input masks.\n",
       "array_split : Split an array into multiple sub-arrays of equal or\n",
       "              near-equal size.\n",
       "split : Split array into a list of multiple sub-arrays of equal size.\n",
       "hsplit : Split array into multiple sub-arrays horizontally (column wise).\n",
       "vsplit : Split array into multiple sub-arrays vertically (row wise).\n",
       "dsplit : Split array into multiple sub-arrays along the 3rd axis (depth).\n",
       "stack : Stack a sequence of arrays along a new axis.\n",
       "block : Assemble arrays from blocks.\n",
       "hstack : Stack arrays in sequence horizontally (column wise).\n",
       "vstack : Stack arrays in sequence vertically (row wise).\n",
       "dstack : Stack arrays in sequence depth wise (along third dimension).\n",
       "column_stack : Stack 1-D arrays as columns into a 2-D array.\n",
       "\n",
       "Notes\n",
       "-----\n",
       "When one or more of the arrays to be concatenated is a MaskedArray,\n",
       "this function will return a MaskedArray object instead of an ndarray,\n",
       "but the input masks are *not* preserved. In cases where a MaskedArray\n",
       "is expected as input, use the ma.concatenate function from the masked\n",
       "array module instead.\n",
       "\n",
       "Examples\n",
       "--------\n",
       ">>> a = np.array([[1, 2], [3, 4]])\n",
       ">>> b = np.array([[5, 6]])\n",
       ">>> np.concatenate((a, b), axis=0)\n",
       "array([[1, 2],\n",
       "       [3, 4],\n",
       "       [5, 6]])\n",
       ">>> np.concatenate((a, b.T), axis=1)\n",
       "array([[1, 2, 5],\n",
       "       [3, 4, 6]])\n",
       ">>> np.concatenate((a, b), axis=None)\n",
       "array([1, 2, 3, 4, 5, 6])\n",
       "\n",
       "This function will not preserve masking of MaskedArray inputs.\n",
       "\n",
       ">>> a = np.ma.arange(3)\n",
       ">>> a[1] = np.ma.masked\n",
       ">>> b = np.arange(2, 5)\n",
       ">>> a\n",
       "masked_array(data=[0, --, 2],\n",
       "             mask=[False,  True, False],\n",
       "       fill_value=999999)\n",
       ">>> b\n",
       "array([2, 3, 4])\n",
       ">>> np.concatenate([a, b])\n",
       "masked_array(data=[0, 1, 2, 2, 3, 4],\n",
       "             mask=False,\n",
       "       fill_value=999999)\n",
       ">>> np.ma.concatenate([a, b])\n",
       "masked_array(data=[0, --, 2, 2, 3, 4],\n",
       "             mask=[False,  True, False, False, False, False],\n",
       "       fill_value=999999)\n",
       "\u001b[1;31mClass docstring:\u001b[0m\n",
       "Class to wrap functions with checks for __array_function__ overrides.\n",
       "\n",
       "All arguments are required, and can only be passed by position.\n",
       "\n",
       "Parameters\n",
       "----------\n",
       "dispatcher : function or None\n",
       "    The dispatcher function that returns a single sequence-like object\n",
       "    of all arguments relevant.  It must have the same signature (except\n",
       "    the default values) as the actual implementation.\n",
       "    If ``None``, this is a ``like=`` dispatcher and the\n",
       "    ``_ArrayFunctionDispatcher`` must be called with ``like`` as the\n",
       "    first (additional and positional) argument.\n",
       "implementation : function\n",
       "    Function that implements the operation on NumPy arrays without\n",
       "    overrides.  Arguments passed calling the ``_ArrayFunctionDispatcher``\n",
       "    will be forwarded to this (and the ``dispatcher``) as if using\n",
       "    ``*args, **kwargs``.\n",
       "\n",
       "Attributes\n",
       "----------\n",
       "_implementation : function\n",
       "    The original implementation passed in."
      ]
     },
     "metadata": {},
     "output_type": "display_data"
    }
   ],
   "source": [
    "np.concatenate?"
   ]
  },
  {
   "cell_type": "markdown",
   "id": "9e7e48a4-bff1-4788-9831-c588d05bad42",
   "metadata": {},
   "source": [
    "# stack : Stack a sequence of arrays along a new axis.\n",
    "\n",
    "block : Assemble arrays from blocks.\n",
    "hstack : Stack arrays in sequence horizontally (column wise).\n",
    "vstack : Stack arrays in sequence vertically (row wise).\n",
    "dstack : Stack arrays in sequence depth wise (along third dimension).\n",
    "column_stack : Stack 1-D arrays as columns into a 2-D array."
   ]
  },
  {
   "cell_type": "code",
   "execution_count": 249,
   "id": "85c3d6bd-9f88-4787-8d67-12e1604b2464",
   "metadata": {},
   "outputs": [
    {
     "data": {
      "text/plain": [
       "array([[1, 2],\n",
       "       [4, 5]])"
      ]
     },
     "execution_count": 249,
     "metadata": {},
     "output_type": "execute_result"
    }
   ],
   "source": [
    "da"
   ]
  },
  {
   "cell_type": "code",
   "execution_count": 251,
   "id": "1845215b-64b9-4a13-a515-8d703c6c8657",
   "metadata": {},
   "outputs": [
    {
     "data": {
      "text/plain": [
       "array([[ 5, 16],\n",
       "       [ 8, 19]])"
      ]
     },
     "execution_count": 251,
     "metadata": {},
     "output_type": "execute_result"
    }
   ],
   "source": [
    "sa"
   ]
  },
  {
   "cell_type": "code",
   "execution_count": 253,
   "id": "8eb27aaf-7366-4dc8-838c-b3e9efa63bd4",
   "metadata": {},
   "outputs": [
    {
     "data": {
      "text/plain": [
       "array([[ 5, 16],\n",
       "       [ 8, 19],\n",
       "       [ 1,  2],\n",
       "       [ 4,  5]])"
      ]
     },
     "execution_count": 253,
     "metadata": {},
     "output_type": "execute_result"
    }
   ],
   "source": [
    "np.concatenate([sa,da])"
   ]
  },
  {
   "cell_type": "code",
   "execution_count": 260,
   "id": "6cee7bba-bf29-40d8-a8b0-1e21f2a2cd5a",
   "metadata": {},
   "outputs": [
    {
     "data": {
      "text/plain": [
       "array([[ 5, 16,  1,  2],\n",
       "       [ 8, 19,  4,  5]])"
      ]
     },
     "execution_count": 260,
     "metadata": {},
     "output_type": "execute_result"
    }
   ],
   "source": [
    "ca = np.concatenate([sa,da], axis = 1)\n",
    "ca\n",
    "# axis to specify row or column"
   ]
  },
  {
   "cell_type": "markdown",
   "id": "be5b2673-7382-4909-9698-d7d6f936bf10",
   "metadata": {},
   "source": [
    "# Axis To Specify Row 0 / Column 1"
   ]
  },
  {
   "cell_type": "code",
   "execution_count": 268,
   "id": "f14e0f94-843a-42d0-83e7-78143641519e",
   "metadata": {},
   "outputs": [
    {
     "ename": "ValueError",
     "evalue": "all the input arrays must have same number of dimensions, but the array at index 0 has 2 dimension(s) and the array at index 1 has 1 dimension(s)",
     "output_type": "error",
     "traceback": [
      "\u001b[1;31m---------------------------------------------------------------------------\u001b[0m",
      "\u001b[1;31mValueError\u001b[0m                                Traceback (most recent call last)",
      "Cell \u001b[1;32mIn[268], line 1\u001b[0m\n\u001b[1;32m----> 1\u001b[0m np\u001b[38;5;241m.\u001b[39mconcatenate([ca,ar1])\n",
      "\u001b[1;31mValueError\u001b[0m: all the input arrays must have same number of dimensions, but the array at index 0 has 2 dimension(s) and the array at index 1 has 1 dimension(s)"
     ]
    }
   ],
   "source": [
    "np.concatenate([ca,ar1])"
   ]
  },
  {
   "cell_type": "code",
   "execution_count": 270,
   "id": "1e51ce27-1e25-4bcf-8af6-a2363756a564",
   "metadata": {},
   "outputs": [
    {
     "data": {
      "text/plain": [
       "array([[1, 1, 1, 1]])"
      ]
     },
     "execution_count": 270,
     "metadata": {},
     "output_type": "execute_result"
    }
   ],
   "source": [
    "a1 = np.array([[1,1,1,1]])\n",
    "a1"
   ]
  },
  {
   "cell_type": "markdown",
   "id": "913c531a-7ddd-4d16-9989-584f1bef6061",
   "metadata": {},
   "source": [
    "# To Concatenate For Rows = No. Of Columns Same\n",
    "# For Columns = No. Of Rows Same\n"
   ]
  },
  {
   "cell_type": "code",
   "execution_count": 276,
   "id": "caa4c95f-73f7-4ebf-a2e3-e03b9fa1d62c",
   "metadata": {},
   "outputs": [
    {
     "data": {
      "text/plain": [
       "array([0, 1, 2, 3, 4, 5, 6, 7, 8, 1, 2, 3, 4])"
      ]
     },
     "execution_count": 276,
     "metadata": {},
     "output_type": "execute_result"
    }
   ],
   "source": [
    "np.concatenate([ar1,c])"
   ]
  },
  {
   "cell_type": "code",
   "execution_count": 280,
   "id": "25196b33-2848-4384-91e9-1bdb9ca9bc86",
   "metadata": {},
   "outputs": [
    {
     "data": {
      "text/plain": [
       "array([1, 2, 3, 1, 2, 3, 4])"
      ]
     },
     "execution_count": 280,
     "metadata": {},
     "output_type": "execute_result"
    }
   ],
   "source": [
    "np.concatenate([ar,c],axis=0)\n",
    "# axis to specify row 0/ column 1"
   ]
  },
  {
   "cell_type": "code",
   "execution_count": 282,
   "id": "ad60d81f-2dd9-4e90-b4f8-570777251490",
   "metadata": {
    "scrolled": true
   },
   "outputs": [
    {
     "data": {
      "text/plain": [
       "\u001b[1;31mSignature:\u001b[0m       \u001b[0mnp\u001b[0m\u001b[1;33m.\u001b[0m\u001b[0mvstack\u001b[0m\u001b[1;33m(\u001b[0m\u001b[0mtup\u001b[0m\u001b[1;33m,\u001b[0m \u001b[1;33m*\u001b[0m\u001b[1;33m,\u001b[0m \u001b[0mdtype\u001b[0m\u001b[1;33m=\u001b[0m\u001b[1;32mNone\u001b[0m\u001b[1;33m,\u001b[0m \u001b[0mcasting\u001b[0m\u001b[1;33m=\u001b[0m\u001b[1;34m'same_kind'\u001b[0m\u001b[1;33m)\u001b[0m\u001b[1;33m\u001b[0m\u001b[1;33m\u001b[0m\u001b[0m\n",
       "\u001b[1;31mCall signature:\u001b[0m  \u001b[0mnp\u001b[0m\u001b[1;33m.\u001b[0m\u001b[0mvstack\u001b[0m\u001b[1;33m(\u001b[0m\u001b[1;33m*\u001b[0m\u001b[0margs\u001b[0m\u001b[1;33m,\u001b[0m \u001b[1;33m**\u001b[0m\u001b[0mkwargs\u001b[0m\u001b[1;33m)\u001b[0m\u001b[1;33m\u001b[0m\u001b[1;33m\u001b[0m\u001b[0m\n",
       "\u001b[1;31mType:\u001b[0m            _ArrayFunctionDispatcher\n",
       "\u001b[1;31mString form:\u001b[0m     <function vstack at 0x000001DAD4B0DE40>\n",
       "\u001b[1;31mFile:\u001b[0m            c:\\users\\siya\\.conda\\lib\\site-packages\\numpy\\core\\shape_base.py\n",
       "\u001b[1;31mDocstring:\u001b[0m      \n",
       "Stack arrays in sequence vertically (row wise).\n",
       "\n",
       "This is equivalent to concatenation along the first axis after 1-D arrays\n",
       "of shape `(N,)` have been reshaped to `(1,N)`. Rebuilds arrays divided by\n",
       "`vsplit`.\n",
       "\n",
       "This function makes most sense for arrays with up to 3 dimensions. For\n",
       "instance, for pixel-data with a height (first axis), width (second axis),\n",
       "and r/g/b channels (third axis). The functions `concatenate`, `stack` and\n",
       "`block` provide more general stacking and concatenation operations.\n",
       "\n",
       "``np.row_stack`` is an alias for `vstack`. They are the same function.\n",
       "\n",
       "Parameters\n",
       "----------\n",
       "tup : sequence of ndarrays\n",
       "    The arrays must have the same shape along all but the first axis.\n",
       "    1-D arrays must have the same length.\n",
       "\n",
       "dtype : str or dtype\n",
       "    If provided, the destination array will have this dtype. Cannot be\n",
       "    provided together with `out`.\n",
       "\n",
       ".. versionadded:: 1.24\n",
       "\n",
       "casting : {'no', 'equiv', 'safe', 'same_kind', 'unsafe'}, optional\n",
       "    Controls what kind of data casting may occur. Defaults to 'same_kind'.\n",
       "\n",
       ".. versionadded:: 1.24\n",
       "\n",
       "Returns\n",
       "-------\n",
       "stacked : ndarray\n",
       "    The array formed by stacking the given arrays, will be at least 2-D.\n",
       "\n",
       "See Also\n",
       "--------\n",
       "concatenate : Join a sequence of arrays along an existing axis.\n",
       "stack : Join a sequence of arrays along a new axis.\n",
       "block : Assemble an nd-array from nested lists of blocks.\n",
       "hstack : Stack arrays in sequence horizontally (column wise).\n",
       "dstack : Stack arrays in sequence depth wise (along third axis).\n",
       "column_stack : Stack 1-D arrays as columns into a 2-D array.\n",
       "vsplit : Split an array into multiple sub-arrays vertically (row-wise).\n",
       "\n",
       "Examples\n",
       "--------\n",
       ">>> a = np.array([1, 2, 3])\n",
       ">>> b = np.array([4, 5, 6])\n",
       ">>> np.vstack((a,b))\n",
       "array([[1, 2, 3],\n",
       "       [4, 5, 6]])\n",
       "\n",
       ">>> a = np.array([[1], [2], [3]])\n",
       ">>> b = np.array([[4], [5], [6]])\n",
       ">>> np.vstack((a,b))\n",
       "array([[1],\n",
       "       [2],\n",
       "       [3],\n",
       "       [4],\n",
       "       [5],\n",
       "       [6]])\n",
       "\u001b[1;31mClass docstring:\u001b[0m\n",
       "Class to wrap functions with checks for __array_function__ overrides.\n",
       "\n",
       "All arguments are required, and can only be passed by position.\n",
       "\n",
       "Parameters\n",
       "----------\n",
       "dispatcher : function or None\n",
       "    The dispatcher function that returns a single sequence-like object\n",
       "    of all arguments relevant.  It must have the same signature (except\n",
       "    the default values) as the actual implementation.\n",
       "    If ``None``, this is a ``like=`` dispatcher and the\n",
       "    ``_ArrayFunctionDispatcher`` must be called with ``like`` as the\n",
       "    first (additional and positional) argument.\n",
       "implementation : function\n",
       "    Function that implements the operation on NumPy arrays without\n",
       "    overrides.  Arguments passed calling the ``_ArrayFunctionDispatcher``\n",
       "    will be forwarded to this (and the ``dispatcher``) as if using\n",
       "    ``*args, **kwargs``.\n",
       "\n",
       "Attributes\n",
       "----------\n",
       "_implementation : function\n",
       "    The original implementation passed in."
      ]
     },
     "metadata": {},
     "output_type": "display_data"
    }
   ],
   "source": [
    "np.vstack?"
   ]
  },
  {
   "cell_type": "code",
   "execution_count": 298,
   "id": "c2c33533-9b26-4341-a196-bd546bfeae7f",
   "metadata": {},
   "outputs": [],
   "source": [
    "#Stack arrays in sequence vertically (row wise)\n",
    "a=np.arange(9,18).reshape(3,3)"
   ]
  },
  {
   "cell_type": "code",
   "execution_count": 302,
   "id": "8db33518-a9f6-4f65-9a08-83dd1a97487d",
   "metadata": {},
   "outputs": [],
   "source": [
    "ad=np.arange(1,4)\n",
    "ad=ad[:,np.newaxis]    "
   ]
  },
  {
   "cell_type": "code",
   "execution_count": 304,
   "id": "8440883b-45a9-44d9-a42b-2a4126eaf57b",
   "metadata": {},
   "outputs": [],
   "source": [
    "ap=np.arange(1,4)\n"
   ]
  },
  {
   "cell_type": "code",
   "execution_count": 306,
   "id": "322450cd-24f6-4342-b238-0fcdee414df4",
   "metadata": {},
   "outputs": [
    {
     "data": {
      "text/plain": [
       "array([[ 9, 10, 11],\n",
       "       [12, 13, 14],\n",
       "       [15, 16, 17],\n",
       "       [ 1,  2,  3]])"
      ]
     },
     "execution_count": 306,
     "metadata": {},
     "output_type": "execute_result"
    }
   ],
   "source": [
    "np.vstack((a,ap))"
   ]
  },
  {
   "cell_type": "code",
   "execution_count": 308,
   "id": "d32b2db4-c7a8-4ebf-995e-7d9667a4a9f4",
   "metadata": {},
   "outputs": [
    {
     "data": {
      "text/plain": [
       "array([[ 9, 10, 11,  1],\n",
       "       [12, 13, 14,  2],\n",
       "       [15, 16, 17,  3]])"
      ]
     },
     "execution_count": 308,
     "metadata": {},
     "output_type": "execute_result"
    }
   ],
   "source": [
    "np.hstack((a,ad))"
   ]
  },
  {
   "cell_type": "code",
   "execution_count": 312,
   "id": "db94aa9c-fdca-4a82-9e1c-f46fa7bf187e",
   "metadata": {
    "scrolled": true
   },
   "outputs": [
    {
     "data": {
      "text/plain": [
       "\u001b[1;31mSignature:\u001b[0m       \u001b[0mnp\u001b[0m\u001b[1;33m.\u001b[0m\u001b[0msplit\u001b[0m\u001b[1;33m(\u001b[0m\u001b[0mary\u001b[0m\u001b[1;33m,\u001b[0m \u001b[0mindices_or_sections\u001b[0m\u001b[1;33m,\u001b[0m \u001b[0maxis\u001b[0m\u001b[1;33m=\u001b[0m\u001b[1;36m0\u001b[0m\u001b[1;33m)\u001b[0m\u001b[1;33m\u001b[0m\u001b[1;33m\u001b[0m\u001b[0m\n",
       "\u001b[1;31mCall signature:\u001b[0m  \u001b[0mnp\u001b[0m\u001b[1;33m.\u001b[0m\u001b[0msplit\u001b[0m\u001b[1;33m(\u001b[0m\u001b[1;33m*\u001b[0m\u001b[0margs\u001b[0m\u001b[1;33m,\u001b[0m \u001b[1;33m**\u001b[0m\u001b[0mkwargs\u001b[0m\u001b[1;33m)\u001b[0m\u001b[1;33m\u001b[0m\u001b[1;33m\u001b[0m\u001b[0m\n",
       "\u001b[1;31mType:\u001b[0m            _ArrayFunctionDispatcher\n",
       "\u001b[1;31mString form:\u001b[0m     <function split at 0x000001DAD4C40D60>\n",
       "\u001b[1;31mFile:\u001b[0m            c:\\users\\siya\\.conda\\lib\\site-packages\\numpy\\lib\\shape_base.py\n",
       "\u001b[1;31mDocstring:\u001b[0m      \n",
       "Split an array into multiple sub-arrays as views into `ary`.\n",
       "\n",
       "Parameters\n",
       "----------\n",
       "ary : ndarray\n",
       "    Array to be divided into sub-arrays.\n",
       "indices_or_sections : int or 1-D array\n",
       "    If `indices_or_sections` is an integer, N, the array will be divided\n",
       "    into N equal arrays along `axis`.  If such a split is not possible,\n",
       "    an error is raised.\n",
       "\n",
       "    If `indices_or_sections` is a 1-D array of sorted integers, the entries\n",
       "    indicate where along `axis` the array is split.  For example,\n",
       "    ``[2, 3]`` would, for ``axis=0``, result in\n",
       "\n",
       "      - ary[:2]\n",
       "      - ary[2:3]\n",
       "      - ary[3:]\n",
       "\n",
       "    If an index exceeds the dimension of the array along `axis`,\n",
       "    an empty sub-array is returned correspondingly.\n",
       "axis : int, optional\n",
       "    The axis along which to split, default is 0.\n",
       "\n",
       "Returns\n",
       "-------\n",
       "sub-arrays : list of ndarrays\n",
       "    A list of sub-arrays as views into `ary`.\n",
       "\n",
       "Raises\n",
       "------\n",
       "ValueError\n",
       "    If `indices_or_sections` is given as an integer, but\n",
       "    a split does not result in equal division.\n",
       "\n",
       "See Also\n",
       "--------\n",
       "array_split : Split an array into multiple sub-arrays of equal or\n",
       "              near-equal size.  Does not raise an exception if\n",
       "              an equal division cannot be made.\n",
       "hsplit : Split array into multiple sub-arrays horizontally (column-wise).\n",
       "vsplit : Split array into multiple sub-arrays vertically (row wise).\n",
       "dsplit : Split array into multiple sub-arrays along the 3rd axis (depth).\n",
       "concatenate : Join a sequence of arrays along an existing axis.\n",
       "stack : Join a sequence of arrays along a new axis.\n",
       "hstack : Stack arrays in sequence horizontally (column wise).\n",
       "vstack : Stack arrays in sequence vertically (row wise).\n",
       "dstack : Stack arrays in sequence depth wise (along third dimension).\n",
       "\n",
       "Examples\n",
       "--------\n",
       ">>> x = np.arange(9.0)\n",
       ">>> np.split(x, 3)\n",
       "[array([0.,  1.,  2.]), array([3.,  4.,  5.]), array([6.,  7.,  8.])]\n",
       "\n",
       ">>> x = np.arange(8.0)\n",
       ">>> np.split(x, [3, 5, 6, 10])\n",
       "[array([0.,  1.,  2.]),\n",
       " array([3.,  4.]),\n",
       " array([5.]),\n",
       " array([6.,  7.]),\n",
       " array([], dtype=float64)]\n",
       "\u001b[1;31mClass docstring:\u001b[0m\n",
       "Class to wrap functions with checks for __array_function__ overrides.\n",
       "\n",
       "All arguments are required, and can only be passed by position.\n",
       "\n",
       "Parameters\n",
       "----------\n",
       "dispatcher : function or None\n",
       "    The dispatcher function that returns a single sequence-like object\n",
       "    of all arguments relevant.  It must have the same signature (except\n",
       "    the default values) as the actual implementation.\n",
       "    If ``None``, this is a ``like=`` dispatcher and the\n",
       "    ``_ArrayFunctionDispatcher`` must be called with ``like`` as the\n",
       "    first (additional and positional) argument.\n",
       "implementation : function\n",
       "    Function that implements the operation on NumPy arrays without\n",
       "    overrides.  Arguments passed calling the ``_ArrayFunctionDispatcher``\n",
       "    will be forwarded to this (and the ``dispatcher``) as if using\n",
       "    ``*args, **kwargs``.\n",
       "\n",
       "Attributes\n",
       "----------\n",
       "_implementation : function\n",
       "    The original implementation passed in."
      ]
     },
     "metadata": {},
     "output_type": "display_data"
    }
   ],
   "source": [
    "np.split?\n"
   ]
  },
  {
   "cell_type": "code",
   "execution_count": 320,
   "id": "e1f4e31a-0467-46b8-a1e0-a2b661180f31",
   "metadata": {
    "scrolled": true
   },
   "outputs": [
    {
     "data": {
      "text/plain": [
       "\u001b[1;31mSignature:\u001b[0m       \u001b[0mnp\u001b[0m\u001b[1;33m.\u001b[0m\u001b[0mhsplit\u001b[0m\u001b[1;33m(\u001b[0m\u001b[0mary\u001b[0m\u001b[1;33m,\u001b[0m \u001b[0mindices_or_sections\u001b[0m\u001b[1;33m)\u001b[0m\u001b[1;33m\u001b[0m\u001b[1;33m\u001b[0m\u001b[0m\n",
       "\u001b[1;31mCall signature:\u001b[0m  \u001b[0mnp\u001b[0m\u001b[1;33m.\u001b[0m\u001b[0mhsplit\u001b[0m\u001b[1;33m(\u001b[0m\u001b[1;33m*\u001b[0m\u001b[0margs\u001b[0m\u001b[1;33m,\u001b[0m \u001b[1;33m**\u001b[0m\u001b[0mkwargs\u001b[0m\u001b[1;33m)\u001b[0m\u001b[1;33m\u001b[0m\u001b[1;33m\u001b[0m\u001b[0m\n",
       "\u001b[1;31mType:\u001b[0m            _ArrayFunctionDispatcher\n",
       "\u001b[1;31mString form:\u001b[0m     <function hsplit at 0x000001DAD4C40EA0>\n",
       "\u001b[1;31mFile:\u001b[0m            c:\\users\\siya\\.conda\\lib\\site-packages\\numpy\\lib\\shape_base.py\n",
       "\u001b[1;31mDocstring:\u001b[0m      \n",
       "Split an array into multiple sub-arrays horizontally (column-wise).\n",
       "\n",
       "Please refer to the `split` documentation.  `hsplit` is equivalent\n",
       "to `split` with ``axis=1``, the array is always split along the second\n",
       "axis except for 1-D arrays, where it is split at ``axis=0``.\n",
       "\n",
       "See Also\n",
       "--------\n",
       "split : Split an array into multiple sub-arrays of equal size.\n",
       "\n",
       "Examples\n",
       "--------\n",
       ">>> x = np.arange(16.0).reshape(4, 4)\n",
       ">>> x\n",
       "array([[ 0.,   1.,   2.,   3.],\n",
       "       [ 4.,   5.,   6.,   7.],\n",
       "       [ 8.,   9.,  10.,  11.],\n",
       "       [12.,  13.,  14.,  15.]])\n",
       ">>> np.hsplit(x, 2)\n",
       "[array([[  0.,   1.],\n",
       "       [  4.,   5.],\n",
       "       [  8.,   9.],\n",
       "       [12.,  13.]]),\n",
       " array([[  2.,   3.],\n",
       "       [  6.,   7.],\n",
       "       [10.,  11.],\n",
       "       [14.,  15.]])]\n",
       ">>> np.hsplit(x, np.array([3, 6]))\n",
       "[array([[ 0.,   1.,   2.],\n",
       "       [ 4.,   5.,   6.],\n",
       "       [ 8.,   9.,  10.],\n",
       "       [12.,  13.,  14.]]),\n",
       " array([[ 3.],\n",
       "       [ 7.],\n",
       "       [11.],\n",
       "       [15.]]),\n",
       " array([], shape=(4, 0), dtype=float64)]\n",
       "\n",
       "With a higher dimensional array the split is still along the second axis.\n",
       "\n",
       ">>> x = np.arange(8.0).reshape(2, 2, 2)\n",
       ">>> x\n",
       "array([[[0.,  1.],\n",
       "        [2.,  3.]],\n",
       "       [[4.,  5.],\n",
       "        [6.,  7.]]])\n",
       ">>> np.hsplit(x, 2)\n",
       "[array([[[0.,  1.]],\n",
       "       [[4.,  5.]]]),\n",
       " array([[[2.,  3.]],\n",
       "       [[6.,  7.]]])]\n",
       "\n",
       "With a 1-D array, the split is along axis 0.\n",
       "\n",
       ">>> x = np.array([0, 1, 2, 3, 4, 5])\n",
       ">>> np.hsplit(x, 2)\n",
       "[array([0, 1, 2]), array([3, 4, 5])]\n",
       "\u001b[1;31mClass docstring:\u001b[0m\n",
       "Class to wrap functions with checks for __array_function__ overrides.\n",
       "\n",
       "All arguments are required, and can only be passed by position.\n",
       "\n",
       "Parameters\n",
       "----------\n",
       "dispatcher : function or None\n",
       "    The dispatcher function that returns a single sequence-like object\n",
       "    of all arguments relevant.  It must have the same signature (except\n",
       "    the default values) as the actual implementation.\n",
       "    If ``None``, this is a ``like=`` dispatcher and the\n",
       "    ``_ArrayFunctionDispatcher`` must be called with ``like`` as the\n",
       "    first (additional and positional) argument.\n",
       "implementation : function\n",
       "    Function that implements the operation on NumPy arrays without\n",
       "    overrides.  Arguments passed calling the ``_ArrayFunctionDispatcher``\n",
       "    will be forwarded to this (and the ``dispatcher``) as if using\n",
       "    ``*args, **kwargs``.\n",
       "\n",
       "Attributes\n",
       "----------\n",
       "_implementation : function\n",
       "    The original implementation passed in."
      ]
     },
     "metadata": {},
     "output_type": "display_data"
    }
   ],
   "source": [
    "np.hsplit?"
   ]
  },
  {
   "cell_type": "code",
   "execution_count": 316,
   "id": "4e995e1d-6f69-4d66-82ec-d07ff5f2d4c5",
   "metadata": {
    "scrolled": true
   },
   "outputs": [
    {
     "data": {
      "text/plain": [
       "\u001b[1;31mSignature:\u001b[0m       \u001b[0mnp\u001b[0m\u001b[1;33m.\u001b[0m\u001b[0mvsplit\u001b[0m\u001b[1;33m(\u001b[0m\u001b[0mary\u001b[0m\u001b[1;33m,\u001b[0m \u001b[0mindices_or_sections\u001b[0m\u001b[1;33m)\u001b[0m\u001b[1;33m\u001b[0m\u001b[1;33m\u001b[0m\u001b[0m\n",
       "\u001b[1;31mCall signature:\u001b[0m  \u001b[0mnp\u001b[0m\u001b[1;33m.\u001b[0m\u001b[0mvsplit\u001b[0m\u001b[1;33m(\u001b[0m\u001b[1;33m*\u001b[0m\u001b[0margs\u001b[0m\u001b[1;33m,\u001b[0m \u001b[1;33m**\u001b[0m\u001b[0mkwargs\u001b[0m\u001b[1;33m)\u001b[0m\u001b[1;33m\u001b[0m\u001b[1;33m\u001b[0m\u001b[0m\n",
       "\u001b[1;31mType:\u001b[0m            _ArrayFunctionDispatcher\n",
       "\u001b[1;31mString form:\u001b[0m     <function vsplit at 0x000001DAD4C40F40>\n",
       "\u001b[1;31mFile:\u001b[0m            c:\\users\\siya\\.conda\\lib\\site-packages\\numpy\\lib\\shape_base.py\n",
       "\u001b[1;31mDocstring:\u001b[0m      \n",
       "Split an array into multiple sub-arrays vertically (row-wise).\n",
       "\n",
       "Please refer to the ``split`` documentation.  ``vsplit`` is equivalent\n",
       "to ``split`` with `axis=0` (default), the array is always split along the\n",
       "first axis regardless of the array dimension.\n",
       "\n",
       "See Also\n",
       "--------\n",
       "split : Split an array into multiple sub-arrays of equal size.\n",
       "\n",
       "Examples\n",
       "--------\n",
       ">>> x = np.arange(16.0).reshape(4, 4)\n",
       ">>> x\n",
       "array([[ 0.,   1.,   2.,   3.],\n",
       "       [ 4.,   5.,   6.,   7.],\n",
       "       [ 8.,   9.,  10.,  11.],\n",
       "       [12.,  13.,  14.,  15.]])\n",
       ">>> np.vsplit(x, 2)\n",
       "[array([[0., 1., 2., 3.],\n",
       "       [4., 5., 6., 7.]]), array([[ 8.,  9., 10., 11.],\n",
       "       [12., 13., 14., 15.]])]\n",
       ">>> np.vsplit(x, np.array([3, 6]))\n",
       "[array([[ 0.,  1.,  2.,  3.],\n",
       "       [ 4.,  5.,  6.,  7.],\n",
       "       [ 8.,  9., 10., 11.]]), array([[12., 13., 14., 15.]]), array([], shape=(0, 4), dtype=float64)]\n",
       "\n",
       "With a higher dimensional array the split is still along the first axis.\n",
       "\n",
       ">>> x = np.arange(8.0).reshape(2, 2, 2)\n",
       ">>> x\n",
       "array([[[0.,  1.],\n",
       "        [2.,  3.]],\n",
       "       [[4.,  5.],\n",
       "        [6.,  7.]]])\n",
       ">>> np.vsplit(x, 2)\n",
       "[array([[[0., 1.],\n",
       "        [2., 3.]]]), array([[[4., 5.],\n",
       "        [6., 7.]]])]\n",
       "\u001b[1;31mClass docstring:\u001b[0m\n",
       "Class to wrap functions with checks for __array_function__ overrides.\n",
       "\n",
       "All arguments are required, and can only be passed by position.\n",
       "\n",
       "Parameters\n",
       "----------\n",
       "dispatcher : function or None\n",
       "    The dispatcher function that returns a single sequence-like object\n",
       "    of all arguments relevant.  It must have the same signature (except\n",
       "    the default values) as the actual implementation.\n",
       "    If ``None``, this is a ``like=`` dispatcher and the\n",
       "    ``_ArrayFunctionDispatcher`` must be called with ``like`` as the\n",
       "    first (additional and positional) argument.\n",
       "implementation : function\n",
       "    Function that implements the operation on NumPy arrays without\n",
       "    overrides.  Arguments passed calling the ``_ArrayFunctionDispatcher``\n",
       "    will be forwarded to this (and the ``dispatcher``) as if using\n",
       "    ``*args, **kwargs``.\n",
       "\n",
       "Attributes\n",
       "----------\n",
       "_implementation : function\n",
       "    The original implementation passed in."
      ]
     },
     "metadata": {},
     "output_type": "display_data"
    }
   ],
   "source": [
    "np.vsplit?\n"
   ]
  },
  {
   "cell_type": "code",
   "execution_count": 324,
   "id": "4ef0495a-be81-4c73-9670-2805be18dea8",
   "metadata": {
    "scrolled": true
   },
   "outputs": [
    {
     "data": {
      "text/plain": [
       "\u001b[1;31mSignature:\u001b[0m       \u001b[0mnp\u001b[0m\u001b[1;33m.\u001b[0m\u001b[0mdsplit\u001b[0m\u001b[1;33m(\u001b[0m\u001b[0mary\u001b[0m\u001b[1;33m,\u001b[0m \u001b[0mindices_or_sections\u001b[0m\u001b[1;33m)\u001b[0m\u001b[1;33m\u001b[0m\u001b[1;33m\u001b[0m\u001b[0m\n",
       "\u001b[1;31mCall signature:\u001b[0m  \u001b[0mnp\u001b[0m\u001b[1;33m.\u001b[0m\u001b[0mdsplit\u001b[0m\u001b[1;33m(\u001b[0m\u001b[1;33m*\u001b[0m\u001b[0margs\u001b[0m\u001b[1;33m,\u001b[0m \u001b[1;33m**\u001b[0m\u001b[0mkwargs\u001b[0m\u001b[1;33m)\u001b[0m\u001b[1;33m\u001b[0m\u001b[1;33m\u001b[0m\u001b[0m\n",
       "\u001b[1;31mType:\u001b[0m            _ArrayFunctionDispatcher\n",
       "\u001b[1;31mString form:\u001b[0m     <function dsplit at 0x000001DAD4C40FE0>\n",
       "\u001b[1;31mFile:\u001b[0m            c:\\users\\siya\\.conda\\lib\\site-packages\\numpy\\lib\\shape_base.py\n",
       "\u001b[1;31mDocstring:\u001b[0m      \n",
       "Split array into multiple sub-arrays along the 3rd axis (depth).\n",
       "\n",
       "Please refer to the `split` documentation.  `dsplit` is equivalent\n",
       "to `split` with ``axis=2``, the array is always split along the third\n",
       "axis provided the array dimension is greater than or equal to 3.\n",
       "\n",
       "See Also\n",
       "--------\n",
       "split : Split an array into multiple sub-arrays of equal size.\n",
       "\n",
       "Examples\n",
       "--------\n",
       ">>> x = np.arange(16.0).reshape(2, 2, 4)\n",
       ">>> x\n",
       "array([[[ 0.,   1.,   2.,   3.],\n",
       "        [ 4.,   5.,   6.,   7.]],\n",
       "       [[ 8.,   9.,  10.,  11.],\n",
       "        [12.,  13.,  14.,  15.]]])\n",
       ">>> np.dsplit(x, 2)\n",
       "[array([[[ 0.,  1.],\n",
       "        [ 4.,  5.]],\n",
       "       [[ 8.,  9.],\n",
       "        [12., 13.]]]), array([[[ 2.,  3.],\n",
       "        [ 6.,  7.]],\n",
       "       [[10., 11.],\n",
       "        [14., 15.]]])]\n",
       ">>> np.dsplit(x, np.array([3, 6]))\n",
       "[array([[[ 0.,   1.,   2.],\n",
       "        [ 4.,   5.,   6.]],\n",
       "       [[ 8.,   9.,  10.],\n",
       "        [12.,  13.,  14.]]]),\n",
       " array([[[ 3.],\n",
       "        [ 7.]],\n",
       "       [[11.],\n",
       "        [15.]]]),\n",
       "array([], shape=(2, 2, 0), dtype=float64)]\n",
       "\u001b[1;31mClass docstring:\u001b[0m\n",
       "Class to wrap functions with checks for __array_function__ overrides.\n",
       "\n",
       "All arguments are required, and can only be passed by position.\n",
       "\n",
       "Parameters\n",
       "----------\n",
       "dispatcher : function or None\n",
       "    The dispatcher function that returns a single sequence-like object\n",
       "    of all arguments relevant.  It must have the same signature (except\n",
       "    the default values) as the actual implementation.\n",
       "    If ``None``, this is a ``like=`` dispatcher and the\n",
       "    ``_ArrayFunctionDispatcher`` must be called with ``like`` as the\n",
       "    first (additional and positional) argument.\n",
       "implementation : function\n",
       "    Function that implements the operation on NumPy arrays without\n",
       "    overrides.  Arguments passed calling the ``_ArrayFunctionDispatcher``\n",
       "    will be forwarded to this (and the ``dispatcher``) as if using\n",
       "    ``*args, **kwargs``.\n",
       "\n",
       "Attributes\n",
       "----------\n",
       "_implementation : function\n",
       "    The original implementation passed in."
      ]
     },
     "metadata": {},
     "output_type": "display_data"
    }
   ],
   "source": [
    "np.dsplit?"
   ]
  },
  {
   "cell_type": "code",
   "execution_count": 336,
   "id": "684faeaa-6def-4982-9600-c848b0e88c52",
   "metadata": {},
   "outputs": [
    {
     "data": {
      "text/plain": [
       "array([1, 2, 3, 4, 5, 6])"
      ]
     },
     "execution_count": 336,
     "metadata": {},
     "output_type": "execute_result"
    }
   ],
   "source": [
    "A=np.array([1,2,3,4,5,6])\n",
    "A"
   ]
  },
  {
   "cell_type": "code",
   "execution_count": 338,
   "id": "8e0972b9-bd76-4fe0-956f-b804f905c166",
   "metadata": {},
   "outputs": [
    {
     "data": {
      "text/plain": [
       "[array([1, 2]), array([3, 4]), array([5, 6])]"
      ]
     },
     "execution_count": 338,
     "metadata": {},
     "output_type": "execute_result"
    }
   ],
   "source": [
    "#Number split in a range \n",
    "np.split(A,[2,4])"
   ]
  },
  {
   "cell_type": "code",
   "execution_count": 344,
   "id": "10944abb-192b-4cbc-bcd0-cc1e7abd418e",
   "metadata": {},
   "outputs": [
    {
     "data": {
      "text/plain": [
       "[array([1]), array([2]), array([3, 4, 5, 6])]"
      ]
     },
     "execution_count": 344,
     "metadata": {},
     "output_type": "execute_result"
    }
   ],
   "source": [
    "np.hsplit(a,[1,2])"
   ]
  },
  {
   "cell_type": "code",
   "execution_count": 354,
   "id": "ebf43e68-1215-4d6c-bcdf-3b3551779b7d",
   "metadata": {},
   "outputs": [
    {
     "data": {
      "text/plain": [
       "[array([1]), array([2]), array([3, 4, 5, 6])]"
      ]
     },
     "execution_count": 354,
     "metadata": {},
     "output_type": "execute_result"
    }
   ],
   "source": [
    "np.hsplit(a,[1,2])\n"
   ]
  },
  {
   "cell_type": "code",
   "execution_count": 358,
   "id": "097efbac-9e80-4658-9a91-612df26ee3fc",
   "metadata": {},
   "outputs": [
    {
     "data": {
      "text/plain": [
       "array([[[ 1,  2,  3],\n",
       "        [ 4,  5,  6],\n",
       "        [ 7,  8,  9]],\n",
       "\n",
       "       [[10, 11, 12],\n",
       "        [13, 14, 15],\n",
       "        [16, 17, 18]],\n",
       "\n",
       "       [[19, 20, 21],\n",
       "        [22, 23, 24],\n",
       "        [25, 26, 27]]])"
      ]
     },
     "execution_count": 358,
     "metadata": {},
     "output_type": "execute_result"
    }
   ],
   "source": [
    "b=np.arange(1,28).reshape(3,3,3)\n",
    "b"
   ]
  },
  {
   "cell_type": "code",
   "execution_count": 362,
   "id": "7032e98c-b084-4563-918b-5c7931373162",
   "metadata": {},
   "outputs": [
    {
     "data": {
      "text/plain": [
       "[array([[[ 1],\n",
       "         [ 4],\n",
       "         [ 7]],\n",
       " \n",
       "        [[10],\n",
       "         [13],\n",
       "         [16]],\n",
       " \n",
       "        [[19],\n",
       "         [22],\n",
       "         [25]]]),\n",
       " array([[[ 2],\n",
       "         [ 5],\n",
       "         [ 8]],\n",
       " \n",
       "        [[11],\n",
       "         [14],\n",
       "         [17]],\n",
       " \n",
       "        [[20],\n",
       "         [23],\n",
       "         [26]]]),\n",
       " array([[[ 3],\n",
       "         [ 6],\n",
       "         [ 9]],\n",
       " \n",
       "        [[12],\n",
       "         [15],\n",
       "         [18]],\n",
       " \n",
       "        [[21],\n",
       "         [24],\n",
       "         [27]]])]"
      ]
     },
     "execution_count": 362,
     "metadata": {},
     "output_type": "execute_result"
    }
   ],
   "source": [
    "np.dsplit(b,3)"
   ]
  },
  {
   "cell_type": "code",
   "execution_count": 364,
   "id": "8a5e39f3-5271-416e-93a5-1b0e27fe7e67",
   "metadata": {},
   "outputs": [],
   "source": [
    "import numpy as np"
   ]
  },
  {
   "cell_type": "code",
   "execution_count": 368,
   "id": "65cfbf92-0eb3-4392-8c44-21d2d688f2cf",
   "metadata": {},
   "outputs": [
    {
     "data": {
      "text/plain": [
       "array([[1, 2, 3],\n",
       "       [4, 5, 6],\n",
       "       [7, 8, 9]])"
      ]
     },
     "execution_count": 368,
     "metadata": {},
     "output_type": "execute_result"
    }
   ],
   "source": [
    "c=np.arange(1,10).reshape(3,3)\n",
    "c"
   ]
  },
  {
   "cell_type": "code",
   "execution_count": 370,
   "id": "04cc4d0e-f2eb-40a7-96d0-9073fba55345",
   "metadata": {},
   "outputs": [
    {
     "data": {
      "text/plain": [
       "45"
      ]
     },
     "execution_count": 370,
     "metadata": {},
     "output_type": "execute_result"
    }
   ],
   "source": [
    "np.sum(c)"
   ]
  },
  {
   "cell_type": "code",
   "execution_count": 372,
   "id": "2f40ca86-3786-43b9-9b68-d4a81462a5bc",
   "metadata": {},
   "outputs": [
    {
     "data": {
      "text/plain": [
       "array([12, 15, 18])"
      ]
     },
     "execution_count": 372,
     "metadata": {},
     "output_type": "execute_result"
    }
   ],
   "source": [
    "np.sum(c,axis=0)\n"
   ]
  },
  {
   "cell_type": "code",
   "execution_count": 376,
   "id": "0eb8b3fc-5d34-43b9-ab66-3bc8707093b2",
   "metadata": {},
   "outputs": [
    {
     "data": {
      "text/plain": [
       "array([ 6, 15, 24])"
      ]
     },
     "execution_count": 376,
     "metadata": {},
     "output_type": "execute_result"
    }
   ],
   "source": [
    "np.sum(c,axis=1)"
   ]
  },
  {
   "cell_type": "code",
   "execution_count": 378,
   "id": "b7d67ee1-6911-4e62-a3ce-4439dca942f4",
   "metadata": {},
   "outputs": [
    {
     "data": {
      "text/plain": [
       "1"
      ]
     },
     "execution_count": 378,
     "metadata": {},
     "output_type": "execute_result"
    }
   ],
   "source": [
    "np.min(r)"
   ]
  },
  {
   "cell_type": "code",
   "execution_count": 380,
   "id": "83daa871-7005-414e-adff-991efb6926f8",
   "metadata": {},
   "outputs": [
    {
     "data": {
      "text/plain": [
       "numpy.ndarray"
      ]
     },
     "execution_count": 380,
     "metadata": {},
     "output_type": "execute_result"
    }
   ],
   "source": [
    "type(c)"
   ]
  },
  {
   "cell_type": "code",
   "execution_count": 382,
   "id": "233214f9-9021-4144-8b0f-b1540cfe300a",
   "metadata": {},
   "outputs": [
    {
     "data": {
      "text/plain": [
       "9"
      ]
     },
     "execution_count": 382,
     "metadata": {},
     "output_type": "execute_result"
    }
   ],
   "source": [
    "np.max(c)"
   ]
  },
  {
   "cell_type": "code",
   "execution_count": 384,
   "id": "637c8bba-99d0-4016-a9d2-13ea2d1678af",
   "metadata": {},
   "outputs": [
    {
     "data": {
      "text/plain": [
       "0"
      ]
     },
     "execution_count": 384,
     "metadata": {},
     "output_type": "execute_result"
    }
   ],
   "source": [
    "# Index of min\n",
    "np.argmin(r)"
   ]
  },
  {
   "cell_type": "code",
   "execution_count": 386,
   "id": "fad899c9-8ec4-40c4-83d1-af5bbced0e76",
   "metadata": {},
   "outputs": [
    {
     "data": {
      "text/plain": [
       "8"
      ]
     },
     "execution_count": 386,
     "metadata": {},
     "output_type": "execute_result"
    }
   ],
   "source": [
    "# Index of max\n",
    "np.argmax(r)"
   ]
  },
  {
   "cell_type": "code",
   "execution_count": 388,
   "id": "9b920620-8617-4863-bc53-71eadbeb9b67",
   "metadata": {},
   "outputs": [
    {
     "data": {
      "text/plain": [
       "array([[1, 2, 3],\n",
       "       [4, 5, 6],\n",
       "       [7, 8, 9]])"
      ]
     },
     "execution_count": 388,
     "metadata": {},
     "output_type": "execute_result"
    }
   ],
   "source": [
    "np.abs(c)"
   ]
  },
  {
   "cell_type": "code",
   "execution_count": 392,
   "id": "a95cc28c-b78d-4927-8173-507e4e8912fb",
   "metadata": {},
   "outputs": [
    {
     "data": {
      "text/plain": [
       "6.666666666666667"
      ]
     },
     "execution_count": 392,
     "metadata": {},
     "output_type": "execute_result"
    }
   ],
   "source": [
    "np.var(c)"
   ]
  },
  {
   "cell_type": "code",
   "execution_count": 394,
   "id": "e48dd5a8-3ce2-44a9-bc93-968b07b2e571",
   "metadata": {},
   "outputs": [
    {
     "data": {
      "text/plain": [
       "2.581988897471611"
      ]
     },
     "execution_count": 394,
     "metadata": {},
     "output_type": "execute_result"
    }
   ],
   "source": [
    "np.std(c)"
   ]
  },
  {
   "cell_type": "code",
   "execution_count": 396,
   "id": "4be1666b-f021-4fdf-8c26-3fc88b15554f",
   "metadata": {},
   "outputs": [
    {
     "data": {
      "text/plain": [
       "5.0"
      ]
     },
     "execution_count": 396,
     "metadata": {},
     "output_type": "execute_result"
    }
   ],
   "source": [
    "np.median(c)"
   ]
  },
  {
   "cell_type": "code",
   "execution_count": 398,
   "id": "a5bea20f-d021-4936-adbb-7d3021a39234",
   "metadata": {},
   "outputs": [
    {
     "data": {
      "text/plain": [
       "362880"
      ]
     },
     "execution_count": 398,
     "metadata": {},
     "output_type": "execute_result"
    }
   ],
   "source": [
    "np.prod(c)"
   ]
  },
  {
   "cell_type": "code",
   "execution_count": 400,
   "id": "dab3ce5d-0401-4f81-ab50-11ed87ebb17a",
   "metadata": {},
   "outputs": [],
   "source": [
    "import numpy as np"
   ]
  },
  {
   "cell_type": "code",
   "execution_count": 402,
   "id": "665ca116-9235-488e-a51d-b4da50cf65dc",
   "metadata": {
    "scrolled": true
   },
   "outputs": [
    {
     "data": {
      "text/plain": [
       "\u001b[1;31mDocstring:\u001b[0m\n",
       "empty(shape, dtype=float, order='C', *, like=None)\n",
       "\n",
       "Return a new array of given shape and type, without initializing entries.\n",
       "\n",
       "Parameters\n",
       "----------\n",
       "shape : int or tuple of int\n",
       "    Shape of the empty array, e.g., ``(2, 3)`` or ``2``.\n",
       "dtype : data-type, optional\n",
       "    Desired output data-type for the array, e.g, `numpy.int8`. Default is\n",
       "    `numpy.float64`.\n",
       "order : {'C', 'F'}, optional, default: 'C'\n",
       "    Whether to store multi-dimensional data in row-major\n",
       "    (C-style) or column-major (Fortran-style) order in\n",
       "    memory.\n",
       "like : array_like, optional\n",
       "    Reference object to allow the creation of arrays which are not\n",
       "    NumPy arrays. If an array-like passed in as ``like`` supports\n",
       "    the ``__array_function__`` protocol, the result will be defined\n",
       "    by it. In this case, it ensures the creation of an array object\n",
       "    compatible with that passed in via this argument.\n",
       "\n",
       "    .. versionadded:: 1.20.0\n",
       "\n",
       "Returns\n",
       "-------\n",
       "out : ndarray\n",
       "    Array of uninitialized (arbitrary) data of the given shape, dtype, and\n",
       "    order.  Object arrays will be initialized to None.\n",
       "\n",
       "See Also\n",
       "--------\n",
       "empty_like : Return an empty array with shape and type of input.\n",
       "ones : Return a new array setting values to one.\n",
       "zeros : Return a new array setting values to zero.\n",
       "full : Return a new array of given shape filled with value.\n",
       "\n",
       "\n",
       "Notes\n",
       "-----\n",
       "`empty`, unlike `zeros`, does not set the array values to zero,\n",
       "and may therefore be marginally faster.  On the other hand, it requires\n",
       "the user to manually set all the values in the array, and should be\n",
       "used with caution.\n",
       "\n",
       "Examples\n",
       "--------\n",
       ">>> np.empty([2, 2])\n",
       "array([[ -9.74499359e+001,   6.69583040e-309],\n",
       "       [  2.13182611e-314,   3.06959433e-309]])         #uninitialized\n",
       "\n",
       ">>> np.empty([2, 2], dtype=int)\n",
       "array([[-1073741821, -1067949133],\n",
       "       [  496041986,    19249760]])                     #uninitialized\n",
       "\u001b[1;31mType:\u001b[0m      builtin_function_or_method"
      ]
     },
     "metadata": {},
     "output_type": "display_data"
    }
   ],
   "source": [
    "np.empty?"
   ]
  },
  {
   "cell_type": "code",
   "execution_count": 81,
   "id": "3d91e804-d8b8-4f83-89dc-c9263f66d6f4",
   "metadata": {},
   "outputs": [],
   "source": [
    "import numpy as np"
   ]
  },
  {
   "cell_type": "code",
   "execution_count": 83,
   "id": "dbb44bcb-d3c5-440b-8db6-722529b71f70",
   "metadata": {},
   "outputs": [
    {
     "data": {
      "text/plain": [
       "array([23, 16, 12,  8, 18,  0,  0, 14, 23,  2])"
      ]
     },
     "execution_count": 83,
     "metadata": {},
     "output_type": "execute_result"
    }
   ],
   "source": [
    "arr1 = np.random.randint(0,24,10)\n",
    "arr1"
   ]
  },
  {
   "cell_type": "code",
   "execution_count": 85,
   "id": "9e1be767-9685-446a-9b56-e5e57907d5f6",
   "metadata": {},
   "outputs": [
    {
     "data": {
      "text/plain": [
       "array([[0.39668553, 0.18631223],\n",
       "       [0.4246705 , 0.51458314]])"
      ]
     },
     "execution_count": 85,
     "metadata": {},
     "output_type": "execute_result"
    }
   ],
   "source": [
    "arr2 = np.random.random((2,2))\n",
    "arr2"
   ]
  },
  {
   "cell_type": "code",
   "execution_count": 87,
   "id": "cda5386e-f010-4ad1-8f1c-293216cc6975",
   "metadata": {},
   "outputs": [
    {
     "data": {
      "text/plain": [
       "array([[0.69285081, 0.54599293, 0.97344661],\n",
       "       [0.71015857, 0.03232925, 0.7519085 ],\n",
       "       [0.67573214, 0.71462745, 0.83051715]])"
      ]
     },
     "execution_count": 87,
     "metadata": {},
     "output_type": "execute_result"
    }
   ],
   "source": [
    "arr3 = np.random.random((3,3))\n",
    "arr3"
   ]
  },
  {
   "cell_type": "code",
   "execution_count": 91,
   "id": "87f31f03-623d-414d-b6b7-7148d1358134",
   "metadata": {},
   "outputs": [
    {
     "data": {
      "text/plain": [
       "dtype('int32')"
      ]
     },
     "execution_count": 91,
     "metadata": {},
     "output_type": "execute_result"
    }
   ],
   "source": [
    "arr1.dtype"
   ]
  },
  {
   "cell_type": "code",
   "execution_count": 93,
   "id": "562fa39d-7761-4ce8-8330-7d914ab28aa8",
   "metadata": {},
   "outputs": [
    {
     "data": {
      "text/plain": [
       "dtype('float64')"
      ]
     },
     "execution_count": 93,
     "metadata": {},
     "output_type": "execute_result"
    }
   ],
   "source": [
    "arr2.dtype"
   ]
  },
  {
   "cell_type": "code",
   "execution_count": 95,
   "id": "906926f8-d63e-40ba-98c6-983d9adbf91d",
   "metadata": {},
   "outputs": [
    {
     "data": {
      "text/plain": [
       "dtype('float64')"
      ]
     },
     "execution_count": 95,
     "metadata": {},
     "output_type": "execute_result"
    }
   ],
   "source": [
    "arr3.dtype"
   ]
  },
  {
   "cell_type": "code",
   "execution_count": 97,
   "id": "687a8504-4fb1-4b63-a319-ac70dfa524ea",
   "metadata": {},
   "outputs": [
    {
     "data": {
      "text/plain": [
       "(10,)"
      ]
     },
     "execution_count": 97,
     "metadata": {},
     "output_type": "execute_result"
    }
   ],
   "source": [
    "arr1.shape"
   ]
  },
  {
   "cell_type": "code",
   "execution_count": 99,
   "id": "a5c0b72f-5a51-4e78-a129-7228737b171f",
   "metadata": {},
   "outputs": [
    {
     "data": {
      "text/plain": [
       "(2, 2)"
      ]
     },
     "execution_count": 99,
     "metadata": {},
     "output_type": "execute_result"
    }
   ],
   "source": [
    "arr2.shape"
   ]
  },
  {
   "cell_type": "code",
   "execution_count": 101,
   "id": "eea260ca-a8c7-44b8-a9f9-1a55d1aac974",
   "metadata": {},
   "outputs": [
    {
     "data": {
      "text/plain": [
       "(3, 3)"
      ]
     },
     "execution_count": 101,
     "metadata": {},
     "output_type": "execute_result"
    }
   ],
   "source": [
    "arr3.shape"
   ]
  },
  {
   "cell_type": "code",
   "execution_count": 105,
   "id": "38e1c02c-da1d-44bf-8470-7bf39a97da48",
   "metadata": {},
   "outputs": [
    {
     "data": {
      "text/plain": [
       "array([0., 0., 0., 0., 0., 0., 0., 0., 0., 0., 0., 0.])"
      ]
     },
     "execution_count": 105,
     "metadata": {},
     "output_type": "execute_result"
    }
   ],
   "source": [
    "np.zeros(12)"
   ]
  },
  {
   "cell_type": "code",
   "execution_count": 107,
   "id": "443f6225-62b6-4ed5-ad72-b732e12b8fda",
   "metadata": {},
   "outputs": [
    {
     "data": {
      "text/plain": [
       "array([[1., 1.],\n",
       "       [1., 1.]])"
      ]
     },
     "execution_count": 107,
     "metadata": {},
     "output_type": "execute_result"
    }
   ],
   "source": [
    "np.ones((2,2))"
   ]
  },
  {
   "cell_type": "code",
   "execution_count": 110,
   "id": "ba931ac3-c49c-4700-bc8f-5b734a4fc91e",
   "metadata": {},
   "outputs": [
    {
     "data": {
      "text/plain": [
       "array([[1, 0, 0, 0, 0],\n",
       "       [0, 1, 0, 0, 0],\n",
       "       [0, 0, 1, 0, 0],\n",
       "       [0, 0, 0, 1, 0],\n",
       "       [0, 0, 0, 0, 1]])"
      ]
     },
     "execution_count": 110,
     "metadata": {},
     "output_type": "execute_result"
    }
   ],
   "source": [
    "np.eye(5,5,dtype=int)"
   ]
  },
  {
   "cell_type": "markdown",
   "id": "0466227c-7084-4b0e-b60c-9d614b373cb8",
   "metadata": {},
   "source": [
    "# Assignment 1"
   ]
  },
  {
   "cell_type": "markdown",
   "id": "bbd72cd7-298c-4899-9621-02e954e7edd0",
   "metadata": {},
   "source": [
    "1. Import Numpy as np \n",
    "\n",
    "2. Create an array of 10 zeros \n",
    "\n",
    "3. Create an array of 10 ones \n",
    "\n",
    "4. Create an array of the integers from 10 to 50 \n",
    "\n",
    "5. Create an array of all the even integers from 10 to 50 \n",
    "\n",
    "6. Create a 3x3 matrix with values ranging from 0 to 8 \n",
    "\n",
    "7. Create a 3x3 identity matrix \n",
    "\n",
    "8. Use NumPy to generate a random number between 0 to 1 \n",
    "\n",
    "9. Use Numpy to generate an array of 25 random numbers sampled from a standard normal distribution \n",
    "\n",
    "10. Create a matrix of 10x10 matrix of linearly spaced elements from 0.01 to 1 \n",
    "\n",
    "11. Create an array of 20 linearly spaced points between 0 and 1 \n",
    "\n",
    "12. Create a 5x5 matrix as array([[ 1, 2, 3, 4, 5], [ 6, 7, 8, 9, 10], \n",
    " [11, 12, 13, 14, 15], \n",
    " [16, 17, 18, 19, 20], \n",
    "[21, 22, 23, 24, 25]]) Find \n",
    " following using slicing \n",
    "\n",
    "a. array([[12, 13, 14, 15], [17, 18, 19, 20], [22, 23, 24, 25]]) \n",
    "\n",
    "b. 20  \n",
    "\n",
    "c.array([[ 2], [ 7], [12]]) \n",
    "\n",
    "d.array([21, 22, 23, 24, 25]) \n",
    "\n",
    "e.array([[16, 17, 18, 19, 20], [21, 22, 23, 24, 25]]) \n",
    "\n",
    "13. Get sum of all values in matrix \n",
    "\n",
    "14. Get sum of all the columns in matrix \n",
    "\n",
    "15. Get Standard deviation , varience , minimum, maximum from matrix row wise. \n",
    "\n",
    "16. Create 2 d matrix with all border values nan."
   ]
  },
  {
   "cell_type": "code",
   "execution_count": 500,
   "id": "fabf6f2a-6b17-45a6-bd3a-db477b025388",
   "metadata": {},
   "outputs": [],
   "source": [
    "1.\n",
    "import numpy as np"
   ]
  },
  {
   "cell_type": "code",
   "execution_count": 411,
   "id": "618e39e7-cc4c-42c1-a720-5b865354b663",
   "metadata": {},
   "outputs": [
    {
     "data": {
      "text/plain": [
       "array([0., 0., 0., 0., 0., 0., 0., 0., 0., 0.])"
      ]
     },
     "execution_count": 411,
     "metadata": {},
     "output_type": "execute_result"
    }
   ],
   "source": [
    "2.\n",
    "np.zeros(10)"
   ]
  },
  {
   "cell_type": "code",
   "execution_count": 413,
   "id": "d75d5db0-3023-4ec7-b7a8-30ccab772fe4",
   "metadata": {},
   "outputs": [
    {
     "data": {
      "text/plain": [
       "array([1., 1., 1., 1., 1., 1., 1., 1., 1., 1.])"
      ]
     },
     "execution_count": 413,
     "metadata": {},
     "output_type": "execute_result"
    }
   ],
   "source": [
    "3.\n",
    "np.ones(10)"
   ]
  },
  {
   "cell_type": "code",
   "execution_count": 415,
   "id": "d47f3b99-5883-4fba-8b62-c3835c95f6bd",
   "metadata": {},
   "outputs": [
    {
     "data": {
      "text/plain": [
       "array([10, 11, 12, 13, 14, 15, 16, 17, 18, 19, 20, 21, 22, 23, 24, 25, 26,\n",
       "       27, 28, 29, 30, 31, 32, 33, 34, 35, 36, 37, 38, 39, 40, 41, 42, 43,\n",
       "       44, 45, 46, 47, 48, 49, 50])"
      ]
     },
     "execution_count": 415,
     "metadata": {},
     "output_type": "execute_result"
    }
   ],
   "source": [
    "4.\n",
    "np.arange(10,51)"
   ]
  },
  {
   "cell_type": "code",
   "execution_count": 417,
   "id": "5f2b3a87-6374-4dc9-9264-00ee77a17481",
   "metadata": {},
   "outputs": [
    {
     "data": {
      "text/plain": [
       "array([10, 12, 14, 16, 18, 20, 22, 24, 26, 28, 30, 32, 34, 36, 38, 40, 42,\n",
       "       44, 46, 48, 50])"
      ]
     },
     "execution_count": 417,
     "metadata": {},
     "output_type": "execute_result"
    }
   ],
   "source": [
    "5.\n",
    "np.arange(10,51,2)"
   ]
  },
  {
   "cell_type": "code",
   "execution_count": 419,
   "id": "9017d8e3-c872-4539-837c-5a677654115c",
   "metadata": {},
   "outputs": [
    {
     "data": {
      "text/plain": [
       "array([[0, 1, 2],\n",
       "       [3, 4, 5],\n",
       "       [6, 7, 8]])"
      ]
     },
     "execution_count": 419,
     "metadata": {},
     "output_type": "execute_result"
    }
   ],
   "source": [
    "6.\n",
    "np.arange(0,9).reshape(3,3)"
   ]
  },
  {
   "cell_type": "code",
   "execution_count": 421,
   "id": "729ff180-4a87-40a7-a045-5d73069c1239",
   "metadata": {},
   "outputs": [
    {
     "data": {
      "text/plain": [
       "array([[1., 0., 0.],\n",
       "       [0., 1., 0.],\n",
       "       [0., 0., 1.]])"
      ]
     },
     "execution_count": 421,
     "metadata": {},
     "output_type": "execute_result"
    }
   ],
   "source": [
    "7.\n",
    "np.eye(3)"
   ]
  },
  {
   "cell_type": "code",
   "execution_count": 423,
   "id": "0d51c584-737c-4a99-9b45-9ae453086a39",
   "metadata": {},
   "outputs": [
    {
     "data": {
      "text/plain": [
       "array([0.87838777])"
      ]
     },
     "execution_count": 423,
     "metadata": {},
     "output_type": "execute_result"
    }
   ],
   "source": [
    "8.\n",
    "np.random.random(1)"
   ]
  },
  {
   "cell_type": "code",
   "execution_count": 425,
   "id": "672d6ab0-877d-4fc0-97e3-d0e8209ed7d1",
   "metadata": {},
   "outputs": [
    {
     "data": {
      "text/plain": [
       "array([-1.81846097,  0.04409564, -0.97465779, -0.02926223, -0.35855505,\n",
       "        0.96811154, -1.63461927, -0.87659244, -0.49607977,  0.33010694,\n",
       "        0.90086491,  0.30946369, -0.12772354,  0.27872136, -2.02471504,\n",
       "        0.84327545, -0.51601862,  0.46429924, -0.06238207, -0.09815837,\n",
       "        0.11997086,  1.2499225 ,  0.69712421, -0.15281952,  1.04371769])"
      ]
     },
     "execution_count": 425,
     "metadata": {},
     "output_type": "execute_result"
    }
   ],
   "source": [
    "9.\n",
    "np.random.randn(25)"
   ]
  },
  {
   "cell_type": "code",
   "execution_count": 427,
   "id": "1d5f7286-350a-4182-a11f-74a8ed72a867",
   "metadata": {},
   "outputs": [
    {
     "data": {
      "text/plain": [
       "array([0.01, 0.02, 0.03, 0.04, 0.05, 0.06, 0.07, 0.08, 0.09, 0.1 , 0.11,\n",
       "       0.12, 0.13, 0.14, 0.15, 0.16, 0.17, 0.18, 0.19, 0.2 , 0.21, 0.22,\n",
       "       0.23, 0.24, 0.25, 0.26, 0.27, 0.28, 0.29, 0.3 , 0.31, 0.32, 0.33,\n",
       "       0.34, 0.35, 0.36, 0.37, 0.38, 0.39, 0.4 , 0.41, 0.42, 0.43, 0.44,\n",
       "       0.45, 0.46, 0.47, 0.48, 0.49, 0.5 , 0.51, 0.52, 0.53, 0.54, 0.55,\n",
       "       0.56, 0.57, 0.58, 0.59, 0.6 , 0.61, 0.62, 0.63, 0.64, 0.65, 0.66,\n",
       "       0.67, 0.68, 0.69, 0.7 , 0.71, 0.72, 0.73, 0.74, 0.75, 0.76, 0.77,\n",
       "       0.78, 0.79, 0.8 , 0.81, 0.82, 0.83, 0.84, 0.85, 0.86, 0.87, 0.88,\n",
       "       0.89, 0.9 , 0.91, 0.92, 0.93, 0.94, 0.95, 0.96, 0.97, 0.98, 0.99,\n",
       "       1.  ])"
      ]
     },
     "execution_count": 427,
     "metadata": {},
     "output_type": "execute_result"
    }
   ],
   "source": [
    "10.\n",
    "np.linspace(0.01,1,100)"
   ]
  },
  {
   "cell_type": "code",
   "execution_count": 429,
   "id": "84c78bef-fea4-4c65-991c-9bf707688db1",
   "metadata": {},
   "outputs": [
    {
     "data": {
      "text/plain": [
       "array([0.        , 0.05263158, 0.10526316, 0.15789474, 0.21052632,\n",
       "       0.26315789, 0.31578947, 0.36842105, 0.42105263, 0.47368421,\n",
       "       0.52631579, 0.57894737, 0.63157895, 0.68421053, 0.73684211,\n",
       "       0.78947368, 0.84210526, 0.89473684, 0.94736842, 1.        ])"
      ]
     },
     "execution_count": 429,
     "metadata": {},
     "output_type": "execute_result"
    }
   ],
   "source": [
    "11.\n",
    "np.linspace(0,1,20)"
   ]
  },
  {
   "cell_type": "code",
   "execution_count": 463,
   "id": "85ee0af2-eb2a-42f4-9671-0ce6ef08a554",
   "metadata": {},
   "outputs": [
    {
     "data": {
      "text/plain": [
       "array([[ 1,  2,  3,  4,  5],\n",
       "       [ 6,  7,  8,  9, 10],\n",
       "       [11, 12, 13, 14, 15],\n",
       "       [16, 17, 18, 19, 20],\n",
       "       [21, 22, 23, 24, 25]])"
      ]
     },
     "execution_count": 463,
     "metadata": {},
     "output_type": "execute_result"
    }
   ],
   "source": [
    "12.\n",
    "s=np.arange(1,26).reshape(5,5)\n",
    "s"
   ]
  },
  {
   "cell_type": "code",
   "execution_count": 465,
   "id": "22b05855-fe56-40b2-98e8-1c64d29e6dbe",
   "metadata": {},
   "outputs": [
    {
     "data": {
      "text/plain": [
       "array([[12, 13, 14, 15],\n",
       "       [17, 18, 19, 20],\n",
       "       [22, 23, 24, 25]])"
      ]
     },
     "execution_count": 465,
     "metadata": {},
     "output_type": "execute_result"
    }
   ],
   "source": [
    "12.\n",
    "s[2:,1:]"
   ]
  },
  {
   "cell_type": "code",
   "execution_count": 467,
   "id": "e79adaa7-661c-4f28-a3e6-2da053f24438",
   "metadata": {},
   "outputs": [
    {
     "data": {
      "text/plain": [
       "20"
      ]
     },
     "execution_count": 467,
     "metadata": {},
     "output_type": "execute_result"
    }
   ],
   "source": [
    "12.\n",
    "s[3,4]"
   ]
  },
  {
   "cell_type": "code",
   "execution_count": 469,
   "id": "a6c1944a-3895-4d20-a3d9-dac52b35eb43",
   "metadata": {},
   "outputs": [
    {
     "data": {
      "text/plain": [
       "array([[ 2],\n",
       "       [ 7],\n",
       "       [12]])"
      ]
     },
     "execution_count": 469,
     "metadata": {},
     "output_type": "execute_result"
    }
   ],
   "source": [
    "12.\n",
    "s[0:3,1:2]"
   ]
  },
  {
   "cell_type": "code",
   "execution_count": 471,
   "id": "d62312d2-95c1-4b02-a3de-057133978838",
   "metadata": {},
   "outputs": [
    {
     "data": {
      "text/plain": [
       "array([21, 22, 23, 24, 25])"
      ]
     },
     "execution_count": 471,
     "metadata": {},
     "output_type": "execute_result"
    }
   ],
   "source": [
    "12.\n",
    "s[4]"
   ]
  },
  {
   "cell_type": "code",
   "execution_count": 481,
   "id": "81dcab5f-6fd4-4ab6-a619-43414a88b046",
   "metadata": {},
   "outputs": [
    {
     "data": {
      "text/plain": [
       "array([[16, 17, 18, 19, 20],\n",
       "       [21, 22, 23, 24, 25]])"
      ]
     },
     "execution_count": 481,
     "metadata": {},
     "output_type": "execute_result"
    }
   ],
   "source": [
    "12.\n",
    "s[3:]"
   ]
  },
  {
   "cell_type": "code",
   "execution_count": 477,
   "id": "9c7d6422-bdab-4e74-a298-153a7fbd0457",
   "metadata": {},
   "outputs": [
    {
     "data": {
      "text/plain": [
       "325"
      ]
     },
     "execution_count": 477,
     "metadata": {},
     "output_type": "execute_result"
    }
   ],
   "source": [
    "13.\n",
    "np.sum(s)"
   ]
  },
  {
   "cell_type": "code",
   "execution_count": 479,
   "id": "7d928b3b-f02a-4248-82ba-0556990d849d",
   "metadata": {},
   "outputs": [
    {
     "data": {
      "text/plain": [
       "array([55, 60, 65, 70, 75])"
      ]
     },
     "execution_count": 479,
     "metadata": {},
     "output_type": "execute_result"
    }
   ],
   "source": [
    "14.\n",
    "np.sum(s,axis=0)"
   ]
  },
  {
   "cell_type": "code",
   "execution_count": 485,
   "id": "efdc89ce-8abc-4405-87e7-5f74ee3f52f1",
   "metadata": {},
   "outputs": [
    {
     "data": {
      "text/plain": [
       "array([1.41421356, 1.41421356, 1.41421356, 1.41421356, 1.41421356])"
      ]
     },
     "metadata": {},
     "output_type": "display_data"
    },
    {
     "data": {
      "text/plain": [
       "array([2., 2., 2., 2., 2.])"
      ]
     },
     "metadata": {},
     "output_type": "display_data"
    },
    {
     "data": {
      "text/plain": [
       "array([ 1,  6, 11, 16, 21])"
      ]
     },
     "metadata": {},
     "output_type": "display_data"
    },
    {
     "data": {
      "text/plain": [
       "array([ 5, 10, 15, 20, 25])"
      ]
     },
     "metadata": {},
     "output_type": "display_data"
    }
   ],
   "source": [
    "15.\n",
    "std= np.std(s, axis=1)\n",
    "var= np.var(s, axis=1)\n",
    "min= np.min(s, axis=1)\n",
    "max= np.max(s, axis=1)\n",
    "\n",
    "display(std,var,min,max)"
   ]
  },
  {
   "cell_type": "code",
   "execution_count": 489,
   "id": "161ef5b9-6648-43ad-8964-c122239c1b64",
   "metadata": {},
   "outputs": [
    {
     "data": {
      "text/plain": [
       "array([[nan, nan, nan, nan, nan],\n",
       "       [nan,  0.,  0.,  0., nan],\n",
       "       [nan,  0.,  0.,  0., nan],\n",
       "       [nan,  0.,  0.,  0., nan],\n",
       "       [nan, nan, nan, nan, nan]])"
      ]
     },
     "metadata": {},
     "output_type": "display_data"
    }
   ],
   "source": [
    "16.\n",
    "import numpy as np\n",
    "\n",
    "rows, cols = 5, 5\n",
    "\n",
    "S= np.zeros((rows, cols))\n",
    "\n",
    "S[0, :] = np.nan  \n",
    "S[-1, :] = np.nan\n",
    "S[:, 0] = np.nan\n",
    "S[:, -1] = np.nan\n",
    "\n",
    "display(S)\n"
   ]
  },
  {
   "cell_type": "markdown",
   "id": "6527553c-616c-4c32-b804-fb45b0d8cd91",
   "metadata": {},
   "source": [
    "# Assignment 2"
   ]
  },
  {
   "cell_type": "markdown",
   "id": "7726896f-a045-4a52-8796-39185d2a1cd2",
   "metadata": {},
   "source": [
    "1. Create 1-D, 2-D and 3-D numpy array \n",
    "\n",
    "2. Print data type of array. \n",
    "\n",
    "3. Print shape and dimensions of all the three different array. \n",
    "\n",
    "4. Create another 1-D array of 12 elements filled with zero \n",
    "\n",
    "5. Create another 2-D array elements filled with ones. \n",
    "\n",
    "6. Create a 1-D array known as Maths Marks out of 100 having 20 elements. \n",
    "\n",
    "7. Sort the above array in ascending and descending order. \n",
    "\n",
    "8. Create a copy of sorted array to another variable by deep copying. \n",
    "\n",
    "9. Create 2-D array of 5x5 which is an identity matrix and then convert 1D. \n",
    "\n",
    "10. Create 2-D array of 3x3. Add one more row to it. \n",
    "\n",
    "11. Split above array created vertically and horizontally. \n",
    "    \n",
    "12. Create 4x4 identity matrix. Add 4 to each element. \n",
    "\n",
    "13. Create 1-D array. Initialize with floating point values. Display its ceil, \n",
    "\n",
    "    floor and round (with 2 decimal’s). \n",
    "\n",
    "    14. Create 5x5 matrix. Display min, max, variance and standard deviation column-wise. \n",
    "\n",
    "15. Create a null vector of size 10 with 6th value filled with 200. \n",
    "\n",
    "16. Create a 1-D Array/Vector with values ranging from 100 to 150 in sequence. \n",
    "\n",
    "17. Reverse the above vector. \n",
    "\n",
    "18. Create a 5x5 matrix with values ranging from 0-24 using some function. \n",
    "\n",
    "19. Find indices of nonzero elements from [1,0,2,0,0,4,0,8] \n",
    "\n",
    "20. Create a 10x10 matrix with 1 on the borders and 0 inside. \n",
    "\n",
    "21. Create 8x8 matrix and fill with 1 and 0 in checkerboard pattern. \n",
    "\n",
    "22. Create two 3x3 matrix with random integer values. Perform matrix \n",
    "\n",
    "addition, multiplication and subtraction"
   ]
  },
  {
   "cell_type": "code",
   "execution_count": 13,
   "id": "b31e63c4-6ffd-4c9f-92b2-911da4424017",
   "metadata": {},
   "outputs": [],
   "source": [
    "import numpy as np"
   ]
  },
  {
   "cell_type": "code",
   "execution_count": 15,
   "id": "51f8fb1d-14ee-47b1-a372-7957519c921b",
   "metadata": {},
   "outputs": [
    {
     "data": {
      "text/plain": [
       "array([0, 1, 2, 3])"
      ]
     },
     "metadata": {},
     "output_type": "display_data"
    },
    {
     "data": {
      "text/plain": [
       "array([[0, 1],\n",
       "       [2, 3]])"
      ]
     },
     "metadata": {},
     "output_type": "display_data"
    },
    {
     "data": {
      "text/plain": [
       "array([[[0, 1],\n",
       "        [2, 3]],\n",
       "\n",
       "       [[4, 5],\n",
       "        [6, 7]]])"
      ]
     },
     "metadata": {},
     "output_type": "display_data"
    }
   ],
   "source": [
    "1.\n",
    "a=np.arange(4)\n",
    "b=np.arange(4).reshape(2,2)\n",
    "c=np.arange(8).reshape(2,2,2)\n",
    "\n",
    "display(a,b,c)"
   ]
  },
  {
   "cell_type": "code",
   "execution_count": 19,
   "id": "ab43b876-37b1-43e3-afe2-732bda659efc",
   "metadata": {},
   "outputs": [
    {
     "data": {
      "text/plain": [
       "dtype('int32')"
      ]
     },
     "execution_count": 19,
     "metadata": {},
     "output_type": "execute_result"
    }
   ],
   "source": [
    "2.\n",
    "c.dtype"
   ]
  },
  {
   "cell_type": "code",
   "execution_count": 21,
   "id": "e956286b-0261-4d04-b454-c81c8fde55cf",
   "metadata": {},
   "outputs": [
    {
     "data": {
      "text/plain": [
       "array([0, 1, 2, 3])"
      ]
     },
     "metadata": {},
     "output_type": "display_data"
    },
    {
     "data": {
      "text/plain": [
       "(4,)"
      ]
     },
     "metadata": {},
     "output_type": "display_data"
    },
    {
     "data": {
      "text/plain": [
       "1"
      ]
     },
     "metadata": {},
     "output_type": "display_data"
    },
    {
     "data": {
      "text/plain": [
       "array([[0, 1],\n",
       "       [2, 3]])"
      ]
     },
     "metadata": {},
     "output_type": "display_data"
    },
    {
     "data": {
      "text/plain": [
       "(2, 2)"
      ]
     },
     "metadata": {},
     "output_type": "display_data"
    },
    {
     "data": {
      "text/plain": [
       "2"
      ]
     },
     "metadata": {},
     "output_type": "display_data"
    },
    {
     "data": {
      "text/plain": [
       "array([[[0, 1],\n",
       "        [2, 3]],\n",
       "\n",
       "       [[4, 5],\n",
       "        [6, 7]]])"
      ]
     },
     "metadata": {},
     "output_type": "display_data"
    },
    {
     "data": {
      "text/plain": [
       "(2, 2, 2)"
      ]
     },
     "metadata": {},
     "output_type": "display_data"
    },
    {
     "data": {
      "text/plain": [
       "3"
      ]
     },
     "metadata": {},
     "output_type": "display_data"
    }
   ],
   "source": [
    "3.\n",
    "display(a,a.shape,a.ndim)\n",
    "display(b,b.shape,b.ndim)\n",
    "display(c,c.shape,c.ndim)"
   ]
  },
  {
   "cell_type": "code",
   "execution_count": 23,
   "id": "af21d8c5-fe32-4914-bc79-a75360d6d671",
   "metadata": {},
   "outputs": [
    {
     "data": {
      "text/plain": [
       "array([0., 0., 0., 0., 0., 0., 0., 0., 0., 0., 0., 0.])"
      ]
     },
     "execution_count": 23,
     "metadata": {},
     "output_type": "execute_result"
    }
   ],
   "source": [
    "4.\n",
    "np.zeros(12)"
   ]
  },
  {
   "cell_type": "code",
   "execution_count": 25,
   "id": "f281e4aa-0c95-481e-9b71-cd9db886eb06",
   "metadata": {},
   "outputs": [
    {
     "data": {
      "text/plain": [
       "array([[1., 1., 1.],\n",
       "       [1., 1., 1.],\n",
       "       [1., 1., 1.]])"
      ]
     },
     "execution_count": 25,
     "metadata": {},
     "output_type": "execute_result"
    }
   ],
   "source": [
    "5.\n",
    "np.ones((3, 3))"
   ]
  },
  {
   "cell_type": "code",
   "execution_count": 27,
   "id": "4cb79ddc-ab5b-429d-b296-0ee47aa3c39d",
   "metadata": {},
   "outputs": [
    {
     "data": {
      "text/plain": [
       "array([ 29,  41,  15,  32,  11,  57,  55,  18,  31,  48,  76,  50,  87,\n",
       "       100,  36,  40,  39,  50,  94,  22])"
      ]
     },
     "metadata": {},
     "output_type": "display_data"
    }
   ],
   "source": [
    "6.\n",
    "d=np.random.randint(0, 101, 20)\n",
    "display(d)"
   ]
  },
  {
   "cell_type": "code",
   "execution_count": 29,
   "id": "b820490a-5cc4-484f-9f13-e44d78a09bef",
   "metadata": {},
   "outputs": [
    {
     "data": {
      "text/plain": [
       "array([ 11,  15,  18,  22,  29,  31,  32,  36,  39,  40,  41,  48,  50,\n",
       "        50,  55,  57,  76,  87,  94, 100])"
      ]
     },
     "metadata": {},
     "output_type": "display_data"
    },
    {
     "data": {
      "text/plain": [
       "array([100,  94,  87,  76,  57,  55,  50,  50,  48,  41,  40,  39,  36,\n",
       "        32,  31,  29,  22,  18,  15,  11])"
      ]
     },
     "metadata": {},
     "output_type": "display_data"
    }
   ],
   "source": [
    "7.\n",
    "d1=np.sort(d)\n",
    "d2=np.sort(d)[::-1]\n",
    "display(d1,d2)"
   ]
  },
  {
   "cell_type": "code",
   "execution_count": 37,
   "id": "b6b9921d-e3d6-4eb7-8c56-6954f31b406b",
   "metadata": {},
   "outputs": [
    {
     "data": {
      "text/plain": [
       "array([[[0, 1],\n",
       "        [2, 3]],\n",
       "\n",
       "       [[4, 5],\n",
       "        [6, 7]]])"
      ]
     },
     "metadata": {},
     "output_type": "display_data"
    },
    {
     "data": {
      "text/plain": [
       "array([[[55, 55],\n",
       "        [55, 55]],\n",
       "\n",
       "       [[ 4,  5],\n",
       "        [ 6,  7]]])"
      ]
     },
     "metadata": {},
     "output_type": "display_data"
    },
    {
     "data": {
      "text/plain": [
       "array([[[0, 1],\n",
       "        [2, 3]],\n",
       "\n",
       "       [[4, 5],\n",
       "        [6, 7]]])"
      ]
     },
     "metadata": {},
     "output_type": "display_data"
    }
   ],
   "source": [
    "8.\n",
    "display(c)\n",
    "np.sort(c)\n",
    "s1=c.copy()\n",
    "s1[0]=55\n",
    "display(s1,c)"
   ]
  },
  {
   "cell_type": "code",
   "execution_count": 41,
   "id": "f02454b5-c823-458d-b0da-b7f8be50bfa4",
   "metadata": {},
   "outputs": [
    {
     "data": {
      "text/plain": [
       "array([[1., 0., 0., 0., 0.],\n",
       "       [0., 1., 0., 0., 0.],\n",
       "       [0., 0., 1., 0., 0.],\n",
       "       [0., 0., 0., 1., 0.],\n",
       "       [0., 0., 0., 0., 1.]])"
      ]
     },
     "metadata": {},
     "output_type": "display_data"
    },
    {
     "data": {
      "text/plain": [
       "array([1., 0., 0., 0., 0., 0., 1., 0., 0., 0., 0., 0., 1., 0., 0., 0., 0.,\n",
       "       0., 1., 0., 0., 0., 0., 0., 1.])"
      ]
     },
     "metadata": {},
     "output_type": "display_data"
    }
   ],
   "source": [
    "9.\n",
    "e=np.eye(5)\n",
    "f=e.flatten()\n",
    "display(e,f)"
   ]
  },
  {
   "cell_type": "code",
   "execution_count": 43,
   "id": "7f295eff-82b9-42eb-8f04-96b1e772d3cd",
   "metadata": {},
   "outputs": [
    {
     "data": {
      "text/plain": [
       "array([[1, 2, 3],\n",
       "       [4, 5, 6],\n",
       "       [7, 8, 9]])"
      ]
     },
     "metadata": {},
     "output_type": "display_data"
    },
    {
     "data": {
      "text/plain": [
       "array([[10, 11, 12]])"
      ]
     },
     "metadata": {},
     "output_type": "display_data"
    },
    {
     "data": {
      "text/plain": [
       "array([[ 1,  2,  3],\n",
       "       [ 4,  5,  6],\n",
       "       [ 7,  8,  9],\n",
       "       [10, 11, 12]])"
      ]
     },
     "metadata": {},
     "output_type": "display_data"
    }
   ],
   "source": [
    "10.\n",
    "e1=np.arange(1,10).reshape(3,3)\n",
    "e2=np.arange(10,13).reshape(1,3)\n",
    "e3=np.concatenate((e1,e2), axis=0)\n",
    "display(e1,e2,e3)"
   ]
  },
  {
   "cell_type": "code",
   "execution_count": 45,
   "id": "07a06a3c-f741-4912-8c20-78cbf8a99013",
   "metadata": {},
   "outputs": [
    {
     "data": {
      "text/plain": [
       "[array([[1, 2, 3],\n",
       "        [4, 5, 6]]),\n",
       " array([[ 7,  8,  9],\n",
       "        [10, 11, 12]])]"
      ]
     },
     "metadata": {},
     "output_type": "display_data"
    },
    {
     "data": {
      "text/plain": [
       "[array([[ 1],\n",
       "        [ 4],\n",
       "        [ 7],\n",
       "        [10]]),\n",
       " array([[ 2],\n",
       "        [ 5],\n",
       "        [ 8],\n",
       "        [11]]),\n",
       " array([[ 3],\n",
       "        [ 6],\n",
       "        [ 9],\n",
       "        [12]])]"
      ]
     },
     "metadata": {},
     "output_type": "display_data"
    }
   ],
   "source": [
    "11.\n",
    "g=np.vsplit(e3,2)\n",
    "h=np.hsplit(e3,3)\n",
    "display(g,h)"
   ]
  },
  {
   "cell_type": "code",
   "execution_count": 51,
   "id": "bde4c755-a4c0-4223-9336-bfb98988c3f4",
   "metadata": {},
   "outputs": [
    {
     "data": {
      "text/plain": [
       "array([[1., 0., 0., 0.],\n",
       "       [0., 1., 0., 0.],\n",
       "       [0., 0., 1., 0.],\n",
       "       [0., 0., 0., 1.]])"
      ]
     },
     "metadata": {},
     "output_type": "display_data"
    },
    {
     "data": {
      "text/plain": [
       "array([[5., 4., 4., 4.],\n",
       "       [4., 5., 4., 4.],\n",
       "       [4., 4., 5., 4.],\n",
       "       [4., 4., 4., 5.]])"
      ]
     },
     "metadata": {},
     "output_type": "display_data"
    }
   ],
   "source": [
    "12.\n",
    "i=np.eye(4)\n",
    "i2=i+4\n",
    "display(i,i2)"
   ]
  },
  {
   "cell_type": "code",
   "execution_count": 53,
   "id": "18cc4e51-07d4-40fc-8130-a3425d2a0af6",
   "metadata": {},
   "outputs": [
    {
     "data": {
      "text/plain": [
       "array([-1.23,  2.34,  3.45, -4.56])"
      ]
     },
     "metadata": {},
     "output_type": "display_data"
    },
    {
     "data": {
      "text/plain": [
       "array([-1.,  3.,  4., -4.])"
      ]
     },
     "metadata": {},
     "output_type": "display_data"
    },
    {
     "data": {
      "text/plain": [
       "array([-2.,  2.,  3., -5.])"
      ]
     },
     "metadata": {},
     "output_type": "display_data"
    },
    {
     "data": {
      "text/plain": [
       "array([-1.23,  2.34,  3.45, -4.56])"
      ]
     },
     "metadata": {},
     "output_type": "display_data"
    }
   ],
   "source": [
    "13.\n",
    "j=np.array([-1.23,2.34,3.45,-4.56])\n",
    "k=np.ceil(j)\n",
    "l=np.floor(j)\n",
    "m=np.round(j, 2)\n",
    "display(j,k,l,m)"
   ]
  },
  {
   "cell_type": "code",
   "execution_count": 55,
   "id": "c4a92d7d-9fb1-4096-8916-1c171e1c2e81",
   "metadata": {},
   "outputs": [
    {
     "data": {
      "text/plain": [
       "array([[ 5,  6,  7,  8,  9],\n",
       "       [10, 11, 12, 13, 14],\n",
       "       [15, 16, 17, 18, 19],\n",
       "       [20, 21, 22, 23, 24],\n",
       "       [25, 26, 27, 28, 29]])"
      ]
     },
     "metadata": {},
     "output_type": "display_data"
    },
    {
     "data": {
      "text/plain": [
       "array([5, 6, 7, 8, 9])"
      ]
     },
     "metadata": {},
     "output_type": "display_data"
    },
    {
     "data": {
      "text/plain": [
       "array([25, 26, 27, 28, 29])"
      ]
     },
     "metadata": {},
     "output_type": "display_data"
    },
    {
     "data": {
      "text/plain": [
       "array([50., 50., 50., 50., 50.])"
      ]
     },
     "metadata": {},
     "output_type": "display_data"
    },
    {
     "data": {
      "text/plain": [
       "array([7.07106781, 7.07106781, 7.07106781, 7.07106781, 7.07106781])"
      ]
     },
     "metadata": {},
     "output_type": "display_data"
    }
   ],
   "source": [
    "14.\n",
    "n=np.arange(5,30).reshape(5,5)\n",
    "min=np.min(n,axis=0)\n",
    "max=np.max(n,axis=0)\n",
    "var=np.var(n,axis=0)\n",
    "std=np.std(n,axis=0)\n",
    "display(n,min,max,var,std)\n"
   ]
  },
  {
   "cell_type": "code",
   "execution_count": 59,
   "id": "5badc514-fb0c-4974-9497-dbcb1d1df75d",
   "metadata": {},
   "outputs": [
    {
     "data": {
      "text/plain": [
       "array([  0.,   0.,   0.,   0.,   0., 200.,   0.,   0.,   0.,   0.])"
      ]
     },
     "metadata": {},
     "output_type": "display_data"
    }
   ],
   "source": [
    "15.\n",
    "o=np.zeros(10)\n",
    "o[5]=200\n",
    "display(o)"
   ]
  },
  {
   "cell_type": "code",
   "execution_count": 61,
   "id": "a0088ded-55e2-466e-9010-17be9082fbdd",
   "metadata": {},
   "outputs": [
    {
     "data": {
      "text/plain": [
       "array([100, 101, 102, 103, 104, 105, 106, 107, 108, 109, 110, 111, 112,\n",
       "       113, 114, 115, 116, 117, 118, 119, 120, 121, 122, 123, 124, 125,\n",
       "       126, 127, 128, 129, 130, 131, 132, 133, 134, 135, 136, 137, 138,\n",
       "       139, 140, 141, 142, 143, 144, 145, 146, 147, 148, 149, 150])"
      ]
     },
     "metadata": {},
     "output_type": "display_data"
    }
   ],
   "source": [
    "16.\n",
    "p=np.arange(100,151)\n",
    "display(p)"
   ]
  },
  {
   "cell_type": "code",
   "execution_count": 63,
   "id": "15a93ed6-69ba-43cc-95eb-2707682ca032",
   "metadata": {},
   "outputs": [
    {
     "data": {
      "text/plain": [
       "array([ 22,  94,  50,  39,  40,  36, 100,  87,  50,  76,  48,  31,  18,\n",
       "        55,  57,  11,  32,  15,  41,  29])"
      ]
     },
     "metadata": {},
     "output_type": "display_data"
    }
   ],
   "source": [
    "17.\n",
    "q=d[::-1]\n",
    "display(q)"
   ]
  },
  {
   "cell_type": "code",
   "execution_count": 65,
   "id": "8e677735-36ee-4687-bf02-b167da6ef074",
   "metadata": {},
   "outputs": [
    {
     "data": {
      "text/plain": [
       "array([1, 0, 2, 0, 0, 4, 0, 8])"
      ]
     },
     "metadata": {},
     "output_type": "display_data"
    },
    {
     "data": {
      "text/plain": [
       "array([0, 2, 5, 7], dtype=int64)"
      ]
     },
     "metadata": {},
     "output_type": "display_data"
    }
   ],
   "source": [
    "18.\n",
    "r=np.array([1,0,2,0,0,4,0,8])\n",
    "s=np.nonzero(r)[0]\n",
    "display(r,s)"
   ]
  },
  {
   "cell_type": "code",
   "execution_count": 67,
   "id": "eb6b4231-fe21-4633-9aed-49c330bd4093",
   "metadata": {},
   "outputs": [
    {
     "data": {
      "text/plain": [
       "array([[1, 1, 1, 1, 1, 1, 1, 1, 1, 1],\n",
       "       [1, 0, 0, 0, 0, 0, 0, 0, 0, 1],\n",
       "       [1, 0, 0, 0, 0, 0, 0, 0, 0, 1],\n",
       "       [1, 0, 0, 0, 0, 0, 0, 0, 0, 1],\n",
       "       [1, 0, 0, 0, 0, 0, 0, 0, 0, 1],\n",
       "       [1, 0, 0, 0, 0, 0, 0, 0, 0, 1],\n",
       "       [1, 0, 0, 0, 0, 0, 0, 0, 0, 1],\n",
       "       [1, 0, 0, 0, 0, 0, 0, 0, 0, 1],\n",
       "       [1, 0, 0, 0, 0, 0, 0, 0, 0, 1],\n",
       "       [1, 1, 1, 1, 1, 1, 1, 1, 1, 1]])"
      ]
     },
     "metadata": {},
     "output_type": "display_data"
    }
   ],
   "source": [
    "19.\n",
    "mat=np.zeros((10,10),dtype=int)\n",
    "mat[0,:]=1\n",
    "mat[-1,:]=1\n",
    "mat[:,0]=1\n",
    "mat[:,-1]=1\n",
    "display(mat)"
   ]
  },
  {
   "cell_type": "code",
   "execution_count": 69,
   "id": "8fcea96a-21c5-4be5-9287-25a620c305bc",
   "metadata": {},
   "outputs": [
    {
     "data": {
      "text/plain": [
       "array([[0, 1, 0, 1, 0, 1, 0, 1],\n",
       "       [1, 0, 1, 0, 1, 0, 1, 0],\n",
       "       [0, 1, 0, 1, 0, 1, 0, 1],\n",
       "       [1, 0, 1, 0, 1, 0, 1, 0],\n",
       "       [0, 1, 0, 1, 0, 1, 0, 1],\n",
       "       [1, 0, 1, 0, 1, 0, 1, 0],\n",
       "       [0, 1, 0, 1, 0, 1, 0, 1],\n",
       "       [1, 0, 1, 0, 1, 0, 1, 0]])"
      ]
     },
     "metadata": {},
     "output_type": "display_data"
    }
   ],
   "source": [
    "20.\n",
    "t=np.zeros((8,8),dtype=int)\n",
    "t[1::2,::2]=1\n",
    "t[::2,1::2]=1\n",
    "display(t)"
   ]
  },
  {
   "cell_type": "code",
   "execution_count": 75,
   "id": "2715547d-b199-4109-b93f-225311d62f35",
   "metadata": {},
   "outputs": [
    {
     "name": "stdout",
     "output_type": "stream",
     "text": [
      "[[0 1 0 1 0 1 0 1]\n",
      " [1 0 1 0 1 0 1 0]\n",
      " [0 1 0 1 0 1 0 1]\n",
      " [1 0 1 0 1 0 1 0]\n",
      " [0 1 0 1 0 1 0 1]\n",
      " [1 0 1 0 1 0 1 0]\n",
      " [0 1 0 1 0 1 0 1]\n",
      " [1 0 1 0 1 0 1 0]]\n"
     ]
    }
   ],
   "source": [
    "21.\n",
    "matrix = np.zeros((8, 8), dtype=int)\n",
    "matrix[1::2, ::2] = 1\n",
    "matrix[::2, 1::2] = 1\n",
    "print(matrix)"
   ]
  },
  {
   "cell_type": "code",
   "execution_count": 77,
   "id": "bc60d6df-9b6c-4d90-855e-0fc78c08959e",
   "metadata": {},
   "outputs": [
    {
     "data": {
      "text/plain": [
       "array([[7, 8, 4],\n",
       "       [2, 4, 3],\n",
       "       [4, 4, 8]])"
      ]
     },
     "metadata": {},
     "output_type": "display_data"
    },
    {
     "data": {
      "text/plain": [
       "array([[2, 2, 8],\n",
       "       [5, 3, 6],\n",
       "       [5, 1, 6]])"
      ]
     },
     "metadata": {},
     "output_type": "display_data"
    },
    {
     "data": {
      "text/plain": [
       "array([[ 9, 10, 12],\n",
       "       [ 7,  7,  9],\n",
       "       [ 9,  5, 14]])"
      ]
     },
     "metadata": {},
     "output_type": "display_data"
    },
    {
     "data": {
      "text/plain": [
       "array([[ 74,  42, 128],\n",
       "       [ 39,  19,  58],\n",
       "       [ 68,  28, 104]])"
      ]
     },
     "metadata": {},
     "output_type": "display_data"
    },
    {
     "data": {
      "text/plain": [
       "array([[ 5,  6, -4],\n",
       "       [-3,  1, -3],\n",
       "       [-1,  3,  2]])"
      ]
     },
     "metadata": {},
     "output_type": "display_data"
    }
   ],
   "source": [
    "22.\n",
    "u1=np.random.randint(1,10, size=(3, 3))\n",
    "u2=np.random.randint(1,10, size=(3, 3))\n",
    "add=u1 + u2\n",
    "mul=np.dot(u1,u2)\n",
    "sub=u1 - u2\n",
    "display(u1,u2,add,mul,sub)"
   ]
  },
  {
   "cell_type": "code",
   "execution_count": null,
   "id": "3ddf8903-f36a-407d-9f07-519ab1c749f6",
   "metadata": {},
   "outputs": [],
   "source": []
  }
 ],
 "metadata": {
  "kernelspec": {
   "display_name": "Python 3 (ipykernel)",
   "language": "python",
   "name": "python3"
  },
  "language_info": {
   "codemirror_mode": {
    "name": "ipython",
    "version": 3
   },
   "file_extension": ".py",
   "mimetype": "text/x-python",
   "name": "python",
   "nbconvert_exporter": "python",
   "pygments_lexer": "ipython3",
   "version": "3.12.4"
  }
 },
 "nbformat": 4,
 "nbformat_minor": 5
}
