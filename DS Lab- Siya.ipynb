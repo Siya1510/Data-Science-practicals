{
 "cells": [
  {
   "cell_type": "markdown",
   "id": "c5064f7a-5e26-424c-83a2-9b897ce4316a",
   "metadata": {},
   "source": [
    "# DS LAB ASSIGNMENT ~ Siya "
   ]
  },
  {
   "cell_type": "code",
   "execution_count": 1,
   "id": "0932aa56-344e-4588-8911-259af4f3ed0a",
   "metadata": {},
   "outputs": [],
   "source": [
    "import pandas as pd"
   ]
  },
  {
   "cell_type": "code",
   "execution_count": 8,
   "id": "a1a99aec-a17f-49fd-b132-2b6449c2b71e",
   "metadata": {},
   "outputs": [
    {
     "name": "stdout",
     "output_type": "stream",
     "text": [
      "a) Online sales for Q1 2022: 1400\n",
      "b) In-store expenses in Q3 2021: 450\n",
      "c) Total sales for Q4 2021: 1970\n",
      "d) Expenses for online channel in 2022: 2800\n",
      "e) Sales data for Q2 2021:\n",
      " Online      1200\n",
      "In-Store     900\n",
      "Name: Q2 2021, dtype: int64\n",
      "f) Maximum expense recorded in 2022: 750\n"
     ]
    }
   ],
   "source": [
    "# Q1. DataFrame\n",
    "data = {\n",
    "    ('Sales', 'Online'): [1000, 1200, 1300, 1100, 1400, 1500, 1600, 1700],\n",
    "    ('Sales', 'In-Store'): [800, 900, 950, 870, 930, 920, 980, 970],\n",
    "    ('Expenses', 'Online'): [500, 600, 700, 550, 650, 680, 720, 750],\n",
    "    ('Expenses', 'In-Store'): [300, 400, 450, 370, 430, 420, 480, 470]\n",
    "}\n",
    "\n",
    "quarters = ['Q1 2021', 'Q2 2021', 'Q3 2021', 'Q4 2021', 'Q1 2022', 'Q2 2022', 'Q3 2022', 'Q4 2022']\n",
    "financial_data = pd.DataFrame(data, index=quarters)\n",
    "\n",
    "# a) Online sales for Q1 2022\n",
    "online_sales_q1_2022 = financial_data.loc['Q1 2022', ('Sales', 'Online')]\n",
    "\n",
    "# b) In-store expenses in Q3 2021\n",
    "in_store_expenses_q3_2021 = financial_data.loc['Q3 2021', ('Expenses', 'In-Store')]\n",
    "\n",
    "# c) Total sales for Q4 2021\n",
    "total_sales_q4_2021 = financial_data.loc['Q4 2021', ('Sales', 'Online')] + financial_data.loc['Q4 2021', ('Sales', 'In-Store')]\n",
    "\n",
    "# d) Expenses for online channel in 2022\n",
    "online_expenses_2022 = financial_data.loc[['Q1 2022', 'Q2 2022', 'Q3 2022', 'Q4 2022'], ('Expenses', 'Online')].sum()\n",
    "\n",
    "# e) Sales data for Q2 2021\n",
    "sales_q2_2021 = financial_data.loc['Q2 2021', 'Sales']\n",
    "\n",
    "# f) Maximum expense recorded in 2022\n",
    "max_expense_2022 = financial_data.loc[['Q1 2022', 'Q2 2022', 'Q3 2022', 'Q4 2022'], 'Expenses'].max().max()\n",
    "\n",
    "print(\"a) Online sales for Q1 2022:\", online_sales_q1_2022)\n",
    "print(\"b) In-store expenses in Q3 2021:\", in_store_expenses_q3_2021)\n",
    "print(\"c) Total sales for Q4 2021:\", total_sales_q4_2021)\n",
    "print(\"d) Expenses for online channel in 2022:\", online_expenses_2022)\n",
    "print(\"e) Sales data for Q2 2021:\\n\", sales_q2_2021)\n",
    "print(\"f) Maximum expense recorded in 2022:\", max_expense_2022)"
   ]
  },
  {
   "cell_type": "code",
   "execution_count": 12,
   "id": "17937de8-d2d2-4287-b82c-0909ce914b8e",
   "metadata": {},
   "outputs": [
    {
     "name": "stdout",
     "output_type": "stream",
     "text": [
      "Store    Product         \n",
      "Store A  Product 1  Sales    100\n",
      "Store B  Product 2  Sales    200\n",
      "Store C  Product 3  Sales    150\n",
      "dtype: int64\n"
     ]
    }
   ],
   "source": [
    "# Q2. Creating a sample DataFrame\n",
    "data = {\n",
    "    'Store': ['Store A', 'Store B', 'Store C'],\n",
    "    'Product': ['Product 1', 'Product 2', 'Product 3'],\n",
    "    'Sales': [100, 200, 150]\n",
    "}\n",
    "df = pd.DataFrame(data)\n",
    "\n",
    "# Stacking the DataFrame\n",
    "stacked_df = df.set_index(['Store', 'Product']).stack()\n",
    "print(stacked_df)"
   ]
  },
  {
   "cell_type": "code",
   "execution_count": 16,
   "id": "ad90286b-6e12-4d7d-a89f-3165dd5e16d5",
   "metadata": {},
   "outputs": [
    {
     "name": "stdout",
     "output_type": "stream",
     "text": [
      "                   Sales\n",
      "Store   Product         \n",
      "Store A Product 1    100\n",
      "Store B Product 2    200\n",
      "Store C Product 3    150\n"
     ]
    }
   ],
   "source": [
    "# Q3. Unstacking the stacked DataFrame\n",
    "unstacked_df = stacked_df.unstack()\n",
    "print(unstacked_df)"
   ]
  },
  {
   "cell_type": "code",
   "execution_count": 18,
   "id": "9b5cd97f-4256-40c1-9604-8b0f2bb84034",
   "metadata": {},
   "outputs": [
    {
     "name": "stdout",
     "output_type": "stream",
     "text": [
      "                     Employee\n",
      "Department Role              \n",
      "Sales      Manager       John\n",
      "           Executive    Alice\n",
      "HR         Manager        Bob\n",
      "           Executive      Eve\n"
     ]
    }
   ],
   "source": [
    "# Q4.Creating a sample DataFrame with Multi-Index\n",
    "index = pd.MultiIndex.from_tuples([\n",
    "    ('Sales', 'Manager'), \n",
    "    ('Sales', 'Executive'), \n",
    "    ('HR', 'Manager'), \n",
    "    ('HR', 'Executive')\n",
    "], names=['Department', 'Role'])\n",
    "\n",
    "df = pd.DataFrame({'Employee': ['John', 'Alice', 'Bob', 'Eve']}, index=index)\n",
    "print(df)"
   ]
  },
  {
   "cell_type": "code",
   "execution_count": 20,
   "id": "de889b8c-96a9-440f-b96e-1ee011d644c2",
   "metadata": {},
   "outputs": [
    {
     "name": "stdout",
     "output_type": "stream",
     "text": [
      "          Employee\n",
      "Role              \n",
      "Manager       John\n",
      "Executive    Alice\n"
     ]
    }
   ],
   "source": [
    "# Q5. Accessing employees from a specific department (e.g., Sales)\n",
    "sales_employees = df.xs('Sales')\n",
    "print(sales_employees)"
   ]
  },
  {
   "cell_type": "code",
   "execution_count": 22,
   "id": "bf39cf5c-3f44-4517-80ad-db1b7a52c241",
   "metadata": {},
   "outputs": [
    {
     "name": "stdout",
     "output_type": "stream",
     "text": [
      "  Student  Subject  Grade\n",
      "2    Cara     Math     85\n",
      "0    Anna     Math     88\n",
      "3   David  Science     91\n",
      "1     Ben  Science     92\n"
     ]
    }
   ],
   "source": [
    "# Q6. Sample DataFrame of student grades\n",
    "grades_data = {\n",
    "    'Student': ['Anna', 'Ben', 'Cara', 'David'],\n",
    "    'Subject': ['Math', 'Science', 'Math', 'Science'],\n",
    "    'Grade': [88, 92, 85, 91]\n",
    "}\n",
    "grades_df = pd.DataFrame(grades_data)\n",
    "\n",
    "# Sorting by Subject and Grade\n",
    "sorted_grades_df = grades_df.sort_values(by=['Subject', 'Grade'])\n",
    "print(sorted_grades_df)"
   ]
  },
  {
   "cell_type": "code",
   "execution_count": 24,
   "id": "0ee8805a-d7a0-4546-8682-61e0e3d1e012",
   "metadata": {},
   "outputs": [
    {
     "name": "stdout",
     "output_type": "stream",
     "text": [
      "  Student  Subject  Grade\n",
      "0    Cara     Math     85\n",
      "1    Anna     Math     88\n",
      "2   David  Science     91\n",
      "3     Ben  Science     92\n"
     ]
    }
   ],
   "source": [
    "# Q7. Resetting the index\n",
    "reset_grades_df = sorted_grades_df.reset_index(drop=True)\n",
    "print(reset_grades_df)"
   ]
  },
  {
   "cell_type": "code",
   "execution_count": 26,
   "id": "81f4ff1c-9b01-48cf-a1bd-2411a8e904f3",
   "metadata": {},
   "outputs": [
    {
     "name": "stdout",
     "output_type": "stream",
     "text": [
      "            Temperature\n",
      "Date                   \n",
      "2023-01-01           22\n",
      "2023-01-02           24\n",
      "2023-01-03           21\n"
     ]
    }
   ],
   "source": [
    "# Q8. Sample DataFrame with a Date column\n",
    "weather_data = {\n",
    "    'Date': ['2023-01-01', '2023-01-02', '2023-01-03'],\n",
    "    'Temperature': [22, 24, 21]\n",
    "}\n",
    "weather_df = pd.DataFrame(weather_data)\n",
    "\n",
    "# Setting the Date column as the index\n",
    "weather_df['Date'] = pd.to_datetime(weather_df['Date'])\n",
    "weather_df.set_index('Date', inplace=True)\n",
    "print(weather_df)"
   ]
  },
  {
   "cell_type": "code",
   "execution_count": 28,
   "id": "2c6af903-5ae6-4445-a4a0-7eb5d3eb8b38",
   "metadata": {},
   "outputs": [
    {
     "name": "stdout",
     "output_type": "stream",
     "text": [
      "     Store    Product  Sales\n",
      "0  Store A  Product 1    100\n",
      "1  Store A  Product 2    150\n",
      "2  Store B  Product 1    200\n"
     ]
    }
   ],
   "source": [
    "# Q9. Sample Multi-Index DataFrame\n",
    "multi_index_data = pd.DataFrame(\n",
    "    {'Sales': [100, 150, 200]},\n",
    "    index=pd.MultiIndex.from_tuples(\n",
    "        [('Store A', 'Product 1'), ('Store A', 'Product 2'), ('Store B', 'Product 1')],\n",
    "        names=['Store', 'Product']\n",
    "    )\n",
    ")\n",
    "\n",
    "# Flattening the multi-index\n",
    "flattened_df = multi_index_data.reset_index()\n",
    "print(flattened_df)"
   ]
  },
  {
   "cell_type": "code",
   "execution_count": 30,
   "id": "f77f85a4-f640-4a2a-9705-d5a620f7c07f",
   "metadata": {},
   "outputs": [
    {
     "name": "stdout",
     "output_type": "stream",
     "text": [
      "             Price\n",
      "Category          \n",
      "Clothing      25.0\n",
      "Electronics   12.5\n"
     ]
    }
   ],
   "source": [
    "# Q10. Sample DataFrame with Category and Product as Multi-Index\n",
    "category_product_data = pd.DataFrame(\n",
    "    {'Price': [10, 15, 20, 30]},\n",
    "    index=pd.MultiIndex.from_tuples(\n",
    "        [('Electronics', 'Phone'), ('Electronics', 'Laptop'), ('Clothing', 'Shirt'), ('Clothing', 'Pants')],\n",
    "        names=['Category', 'Product']\n",
    "    )\n",
    ")\n",
    "\n",
    "# Averaging at the Category level\n",
    "average_by_category = category_product_data.groupby(level='Category').mean()\n",
    "print(average_by_category)"
   ]
  },
  {
   "cell_type": "code",
   "execution_count": null,
   "id": "6b66c14e-88ec-44d8-85b4-a8637254cf00",
   "metadata": {},
   "outputs": [],
   "source": []
  }
 ],
 "metadata": {
  "kernelspec": {
   "display_name": "Python 3 (ipykernel)",
   "language": "python",
   "name": "python3"
  },
  "language_info": {
   "codemirror_mode": {
    "name": "ipython",
    "version": 3
   },
   "file_extension": ".py",
   "mimetype": "text/x-python",
   "name": "python",
   "nbconvert_exporter": "python",
   "pygments_lexer": "ipython3",
   "version": "3.12.4"
  }
 },
 "nbformat": 4,
 "nbformat_minor": 5
}
